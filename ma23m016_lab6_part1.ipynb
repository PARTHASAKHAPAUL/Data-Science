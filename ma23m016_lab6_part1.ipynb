{
 "cells": [
  {
   "cell_type": "markdown",
   "id": "4b7e860e",
   "metadata": {},
   "source": [
    "# 1. Design a class named Polygon that initializes with the length of a side. Then, derive a class named Square from the Polygon class. Utilize the side length defined in the Polygon class for the Square class. Within the Square class, implement a method called findArea() that calculates and returns the square's area based on its side length. Use __init__() for necessary initialization\n",
    "\n"
   ]
  },
  {
   "cell_type": "code",
   "execution_count": 295,
   "id": "4a466a28",
   "metadata": {},
   "outputs": [
    {
     "name": "stdout",
     "output_type": "stream",
     "text": [
      "The area of the square with side length 5 is: 25.\n"
     ]
    }
   ],
   "source": [
    "class Polygon:\n",
    "    def __init__(self,side = 0):\n",
    "        self.side = side\n",
    "class Square(Polygon):\n",
    "    def __init__(self,side1):\n",
    "        super().__init__()\n",
    "        self.side = side1\n",
    "    def findArea(self):\n",
    "        return self.side ** 2\n",
    "\n",
    "length = 5\n",
    "sq1 = Square(length)\n",
    "area = sq1.findArea()\n",
    "print(f\"The area of the square with side length {length} is: {area}.\")"
   ]
  },
  {
   "cell_type": "markdown",
   "id": "16be109e",
   "metadata": {},
   "source": [
    "#     2.  (a)  Create a class Father with attributes\n",
    "\n",
    "                    - father_name (string), father_age (int), father_talents (set of strings)\n",
    "\n",
    "                Create a class Mother with attributes:\n",
    "\n",
    "                    - mother_name (string), mother_age (int), mother_talents (set of strings)\n",
    "\n",
    "                 Create a class Child that inherits both father and mother with attributes: \n",
    "\n",
    "                    - child_name (string), child_age (int), child_gender(string)\n",
    "\n",
    "          (b) Create a function getChildDetails() in Child to input the details of the child, it’s father and mother and printChildDetails() to print the details using     printChildDetails()\n",
    "\n",
    "          (c) Create an object of class Child and read the details by invoking getChildDetails() and display the details entered.\n",
    "\n",
    "          (d) Create a function displayTalents() in class Child that displays the talents of the child inherited from father and mother. A talent is inherited to a child if both\n",
    "\n",
    "              the parents possess it.\n",
    "\n",
    "\n",
    "\n"
   ]
  },
  {
   "cell_type": "code",
   "execution_count": 11,
   "id": "1bcbaa36",
   "metadata": {},
   "outputs": [
    {
     "name": "stdout",
     "output_type": "stream",
     "text": [
      "Enter the Child's name: Abhi\n",
      "Enter the child's age: 15\n",
      "Enter the Child's gender: M\n",
      "Enter the Child's Father name: Akash\n",
      "Enter the child's Father age: 40\n",
      "Enter the Child's Father talents: singing gardening reading\n",
      "Enter the Child's Mother name: Diya\n",
      "Enter the child's Mother age: 38\n",
      "Enter the Child's Mother talents: reading cooking gardening\n",
      "The child's Father name is:  Akash\n",
      "The child's Father age is:  40\n",
      "The child's Father talents are:  ['singing', 'gardening', 'reading']\n",
      "\n",
      "The child's Mother name is:  Diya\n",
      "The child's Mother age is:  38\n",
      "The child's Mother talents are:  ['reading', 'cooking', 'gardening']\n",
      "\n",
      "The child's name is:  Abhi\n",
      "The child's age is:  15\n",
      "The child's gender is:  M\n",
      "\n",
      "Common Talents Inherited by Abhi: ['gardening', 'reading']\n"
     ]
    }
   ],
   "source": [
    "#2.\n",
    "#Creating a class Father with attributes\n",
    "class Father:\n",
    "    def __init__(self,father_name = ' ', father_age = 0, father_talents = { }):\n",
    "        self.father_name = father_name\n",
    "        self.father_age = father_age\n",
    "        self.father_talents = father_talents\n",
    "        \n",
    "#Creating a class Mother with attributes:\n",
    "class Mother:\n",
    "    def __init__(self,mother_name = ' ', mother_age = 0, mother_talents = { }):\n",
    "        self.mother_name = mother_name\n",
    "        self.mother_age = mother_age\n",
    "        self.mother_talents = mother_talents\n",
    "    \n",
    "#Creating a class Child that inherits both father and mother with attributes: \n",
    "class Child(Father,Mother):\n",
    "    def getChildDetails(self):\n",
    "        self.child_name = input(\"Enter the Child's name: \")\n",
    "        self.child_age = int(input(\"Enter the child's age: \"))\n",
    "        self.child_gender = input(\"Enter the Child's gender: \")\n",
    "        father_name = input(\"Enter the Child's Father name: \")\n",
    "        father_age = int(input(\"Enter the child's Father age: \"))\n",
    "        father_talents = input(\"Enter the Child's Father talents: \").split()\n",
    "        mother_name = input(\"Enter the Child's Mother name: \")\n",
    "        mother_age = int(input(\"Enter the child's Mother age: \"))\n",
    "        mother_talents = input(\"Enter the Child's Mother talents: \").split()\n",
    "        Father.__init__(self,father_name, father_age, father_talents)\n",
    "        Mother.__init__(self,mother_name, mother_age, mother_talents)\n",
    "    def printChildDetails(self):\n",
    "        print(\"The child's Father name is: \",self.father_name)\n",
    "        print(\"The child's Father age is: \",self.father_age)\n",
    "        print(\"The child's Father talents are: \",self.father_talents)\n",
    "        print()\n",
    "        print(\"The child's Mother name is: \",self.mother_name)\n",
    "        print(\"The child's Mother age is: \",self.mother_age)\n",
    "        print(\"The child's Mother talents are: \",self.mother_talents)\n",
    "        print()\n",
    "        print(\"The child's name is: \",self.child_name)\n",
    "        print(\"The child's age is: \",self.child_age)\n",
    "        print(\"The child's gender is: \",self.child_gender)\n",
    "        print()\n",
    "    def displayTalents(self):\n",
    "        cmn_tal = []\n",
    "        for i in self.father_talents:\n",
    "            if i in self.mother_talents:\n",
    "                cmn_tal.append(i)\n",
    "        print(f\"Common Talents Inherited by {self.child_name}:\",cmn_tal)\n",
    "        if cmn_tal == [] :\n",
    "            print(f\"{self.child_name} has no common talents from parents.\")\n",
    "\n",
    "c2 = Child()\n",
    "c2.getChildDetails()\n",
    "c2.printChildDetails()\n",
    "c2.displayTalents()"
   ]
  },
  {
   "cell_type": "markdown",
   "id": "4305d241",
   "metadata": {},
   "source": [
    "\n",
    "#     3.  Text File Input Output\n",
    "\n",
    "         Create a .txt (text) file and use the pledge of India as the content of the text file.\n",
    "\n",
    "         Write a python program that reads this text file, processes it by counting the number of occurrences of each word in the file, and then writes the result back to a          new text file.\n"
   ]
  },
  {
   "cell_type": "code",
   "execution_count": 67,
   "id": "3b063bfe",
   "metadata": {},
   "outputs": [
    {
     "data": {
      "text/plain": [
       "225"
      ]
     },
     "execution_count": 67,
     "metadata": {},
     "output_type": "execute_result"
    }
   ],
   "source": [
    "msg = \"India is my country. I love my country and I am proud of its rich and cultural heritage. I shall always strive to be worthy of it. I shall give respect to my parents, teachers, and all elders and treat everyone with courtesy.\"\n",
    "f = open('India.txt','w')\n",
    "f.write(msg)"
   ]
  },
  {
   "cell_type": "code",
   "execution_count": 68,
   "id": "a8f025da",
   "metadata": {},
   "outputs": [
    {
     "name": "stdout",
     "output_type": "stream",
     "text": [
      "India is my country. I love my country and I am proud of its rich and cultural heritage. I shall always strive to be worthy of it. I shall give respect to my parents, teachers, and all elders and treat everyone with courtesy.\n"
     ]
    }
   ],
   "source": [
    "f = open('India.txt','r')  #open a files to reading\n",
    "data_Ind = f.read()\n",
    "print(data_Ind)"
   ]
  },
  {
   "cell_type": "code",
   "execution_count": 75,
   "id": "18358aa8",
   "metadata": {},
   "outputs": [
    {
     "name": "stdout",
     "output_type": "stream",
     "text": [
      "{'India': 1, 'is': 1, 'my': 3, 'country.': 1, 'I': 4, 'love': 1, 'country': 1, 'and': 4, 'am': 1, 'proud': 1, 'of': 2, 'its': 1, 'rich': 1, 'cultural': 1, 'heritage.': 1, 'shall': 2, 'always': 1, 'strive': 1, 'to': 2, 'be': 1, 'worthy': 1, 'it.': 1, 'give': 1, 'respect': 1, 'parents,': 1, 'teachers,': 1, 'all': 1, 'elders': 1, 'treat': 1, 'everyone': 1, 'with': 1, 'courtesy.': 1}\n"
     ]
    }
   ],
   "source": [
    "words = data_Ind.split()\n",
    "count_dic = {word:words.count(word) for word in words}\n",
    "g = open('count_occurences_India.txt','w')\n",
    "g.write(str(count_dic))\n",
    "g.close()\n",
    "g = open('count_occurences_India.txt','r')\n",
    "data_count = g.read()\n",
    "print(data_count)"
   ]
  },
  {
   "cell_type": "markdown",
   "id": "dcd32fda",
   "metadata": {},
   "source": [
    "#    4.  For a restaurant, create a parent class ‘Bill’ which has the properties as ‘Customer  name’, ‘Table Number’ and ‘Order’ of which the name, order are strings and table  number is a positive integer. Define a method to extract the order details from the string and return a 2-D array of ordered items & their number. Create a child class ‘ 'Restaurant Bill’ which has a property called ‘Price list’ of the items and has a method to calculate the total bill amount by using the price list and order details. Also have a   method to print the complete bill for the customer including taxes and service charges.\n",
    "\n",
    "     The strings will be of the following format:\n",
    "\n",
    "     #Name: “Akshay” (Name of the customer)\n",
    "\n",
    "     #Table Number: 7 (Table Number)\n",
    "\n",
    "     #Order: “Item1x1,Item2x3,Item3x1,…” (ItemxNumber needed)\n",
    "\n",
    "     #Price List: “Item1-100,Item2-70,Item3-250,...” (Item-Price)"
   ]
  },
  {
   "cell_type": "code",
   "execution_count": 285,
   "id": "b9b7552b",
   "metadata": {},
   "outputs": [
    {
     "name": "stdout",
     "output_type": "stream",
     "text": [
      "Customer Name: Akshay\n",
      "Table Number: 7\n",
      "Ordered Items:\n",
      "Item1 x 1\n",
      "Item2 x 3\n",
      "Item3 x 1\n",
      "Total Bill Amount: 560\n"
     ]
    }
   ],
   "source": [
    "class Bill:\n",
    "    def __init__(self, customer_name, table_number, order):\n",
    "        self.customer_name = customer_name\n",
    "        self.table_number = table_number\n",
    "        self.order = order\n",
    "\n",
    "    def extract_order_details(self):\n",
    "        items = self.order.split(',')\n",
    "        order_details = []\n",
    "        for item in items:\n",
    "            item_name, quantity = item.split('x')\n",
    "            order_details.append([item_name, int(quantity)])\n",
    "        return order_details\n",
    "\n",
    "class RestaurantBill(Bill):\n",
    "    def __init__(self, customer_name, table_number, order, price_list):\n",
    "        super().__init__(customer_name, table_number, order)\n",
    "        self.price_list = self.price_list(price_list)\n",
    "\n",
    "    def price_list(self, price_list_str):\n",
    "        price_items = price_list_str.split(',')\n",
    "        price_dict = {}\n",
    "        for item in price_items:\n",
    "            item_name, price = item.split('-')\n",
    "            price_dict[item_name] = int(price)\n",
    "        return price_dict\n",
    "\n",
    "    def calculate_total_bill(self):\n",
    "        order_details = self.extract_order_details()\n",
    "        total_amount = 0\n",
    "        for item, quantity in order_details:\n",
    "            if item in self.price_list:\n",
    "                total_amount += self.price_list[item] * quantity\n",
    "        return total_amount\n",
    "\n",
    "    def print_complete_bill(self):\n",
    "        total_amount = self.calculate_total_bill()\n",
    "        print(f\"Customer Name: {self.customer_name}\")\n",
    "        print(f\"Table Number: {self.table_number}\")\n",
    "        print(\"Ordered Items:\")\n",
    "        for item, quantity in self.extract_order_details():\n",
    "            print(f\"{item} x {quantity}\")\n",
    "        print(f\"Total Bill Amount: {total_amount}\")\n",
    "    \n",
    "    def generate_complete_bill(self):\n",
    "        total_amount = self.calculate_total_bill()\n",
    "        bill_content = f\"Customer Name: {self.customer_name}\\n\"\n",
    "        bill_content += f\"Table Number: {self.table_number}\\n\"\n",
    "        bill_content += \"Ordered Items:\\n\"\n",
    "        for item, quantity in self.extract_order_details():\n",
    "            bill_content += f\"{item} x {quantity}\\n\"\n",
    "        bill_content += f\"Total Bill Amount: {total_amount} (including taxes and service charges)\\n\"\n",
    "\n",
    "        return bill_content\n",
    "        \n",
    "order_str = \"Item1x1,Item2x3,Item3x1\"\n",
    "price_list_str = \"Item1-100,Item2-70,Item3-250\"\n",
    "\n",
    "bill = RestaurantBill(customer_name=\"Akshay\", table_number=7, order=order_str, price_list=price_list_str)\n",
    "bill.print_complete_bill()"
   ]
  },
  {
   "cell_type": "markdown",
   "id": "75f7534d",
   "metadata": {},
   "source": [
    "# 5. For the previous question( restaurant Bill) - take name, table no, order details from a file, price list from another file and print the whole bill to the new file."
   ]
  },
  {
   "cell_type": "code",
   "execution_count": 286,
   "id": "d156ad6d",
   "metadata": {},
   "outputs": [
    {
     "name": "stdout",
     "output_type": "stream",
     "text": [
      "Akshay,7,Item1x1,Item2x3,Item3x1\n",
      "<class 'str'>\n"
     ]
    }
   ],
   "source": [
    "f = open('order.txt','w')\n",
    "f.write('Akshay,7,Item1x1,Item2x3,Item3x1')\n",
    "g = open('pricelist.txt','w')\n",
    "g.write('Item1-100,Item2-70,Item3-250')\n",
    "\n",
    "orders = open('order.txt', 'r')\n",
    "order_content = orders.read()\n",
    "print(order_content)\n",
    "print(type(order_content))"
   ]
  },
  {
   "cell_type": "code",
   "execution_count": 287,
   "id": "0c727982",
   "metadata": {},
   "outputs": [
    {
     "name": "stdout",
     "output_type": "stream",
     "text": [
      "['Akshay', '7', 'Item1x1', 'Item2x3', 'Item3x1']\n"
     ]
    }
   ],
   "source": [
    "orders = order_content.split(',')\n",
    "print(orders)"
   ]
  },
  {
   "cell_type": "code",
   "execution_count": 288,
   "id": "4e57c641",
   "metadata": {},
   "outputs": [
    {
     "name": "stdout",
     "output_type": "stream",
     "text": [
      "Item1-100,Item2-70,Item3-250\n",
      "<class 'str'>\n"
     ]
    }
   ],
   "source": [
    "price_list_file = open('pricelist.txt', 'r')\n",
    "price_list_content = price_list_file.read()\n",
    "print(price_list_content)\n",
    "print(type(price_list_content))"
   ]
  },
  {
   "cell_type": "code",
   "execution_count": 289,
   "id": "d74e8313",
   "metadata": {},
   "outputs": [],
   "source": [
    "# orders[2:5]\n",
    "# type(orders[2:5])"
   ]
  },
  {
   "cell_type": "code",
   "execution_count": 290,
   "id": "a823f890",
   "metadata": {},
   "outputs": [],
   "source": [
    "# orders[2]+','+orders[3]+','+orders[4]"
   ]
  },
  {
   "cell_type": "code",
   "execution_count": 291,
   "id": "823c2d64",
   "metadata": {},
   "outputs": [
    {
     "data": {
      "text/plain": [
       "'Item1x1,Item2x3,Item3x1'"
      ]
     },
     "execution_count": 291,
     "metadata": {},
     "output_type": "execute_result"
    }
   ],
   "source": [
    "order_str = ''\n",
    "order_str = ','.join(orders[2:5])\n",
    "order_str"
   ]
  },
  {
   "cell_type": "code",
   "execution_count": 292,
   "id": "7321efec",
   "metadata": {},
   "outputs": [],
   "source": [
    "bill = RestaurantBill(orders[0], int(orders[1]), order_str, price_list_content) "
   ]
  },
  {
   "cell_type": "code",
   "execution_count": 293,
   "id": "d811aba4",
   "metadata": {},
   "outputs": [
    {
     "data": {
      "text/plain": [
       "'Customer Name: Akshay\\nTable Number: 7\\nOrdered Items:\\nItem1 x 1\\nItem2 x 3\\nItem3 x 1\\nTotal Bill Amount: 560 (including taxes and service charges)\\n'"
      ]
     },
     "execution_count": 293,
     "metadata": {},
     "output_type": "execute_result"
    }
   ],
   "source": [
    "bill.generate_complete_bill()"
   ]
  },
  {
   "cell_type": "code",
   "execution_count": 294,
   "id": "5f6337e5",
   "metadata": {},
   "outputs": [
    {
     "name": "stdout",
     "output_type": "stream",
     "text": [
      "Customer Name: Akshay\n",
      "Table Number: 7\n",
      "Ordered Items:\n",
      "Item1 x 1\n",
      "Item2 x 3\n",
      "Item3 x 1\n",
      "Total Bill Amount: 560 (including taxes and service charges)\n",
      "\n"
     ]
    }
   ],
   "source": [
    "complete_bill = bill.generate_complete_bill()\n",
    "\n",
    "output_file = open('complete_bill.txt', 'w')\n",
    "output_file.write(complete_bill)\n",
    "\n",
    "output_file = open('complete_bill.txt','r')\n",
    "data = output_file.read()\n",
    "print(data)"
   ]
  }
 ],
 "metadata": {
  "kernelspec": {
   "display_name": "Python 3 (ipykernel)",
   "language": "python",
   "name": "python3"
  },
  "language_info": {
   "codemirror_mode": {
    "name": "ipython",
    "version": 3
   },
   "file_extension": ".py",
   "mimetype": "text/x-python",
   "name": "python",
   "nbconvert_exporter": "python",
   "pygments_lexer": "ipython3",
   "version": "3.10.7"
  }
 },
 "nbformat": 4,
 "nbformat_minor": 5
}
