{
 "cells": [
  {
   "cell_type": "markdown",
   "id": "3dca302a",
   "metadata": {},
   "source": [
    "# 1.Write a program (WAP) to implement the following operations on a collection of library books:\n",
    "\n",
    "(a) Construct a catalog of books, with each book having an author's name, book title, ISBN number, publication year, and number of pages.\n",
    "\n",
    "(b) Add a new book to the catalog, ensuring that the books are kept in ascending order based on the publication year.\n",
    "\n",
    "(c) Locate a book by its ISBN number and delete the book's entry from the catalog.\n",
    "\n",
    "(d) Insert a new book entry at the end of the catalog using the provided book information.\n",
    "\n",
    "(e) Identify and remove any duplicate entries in the catalog, preserving only one copy of each book based on its ISBN number.\n",
    "\n",
    "(f) Reorganize the entire catalog so that the books are sorted in descending order by the number of pages."
   ]
  },
  {
   "cell_type": "code",
   "execution_count": 1,
   "id": "acf4fb9d",
   "metadata": {},
   "outputs": [
    {
     "name": "stdout",
     "output_type": "stream",
     "text": [
      "the catalog of four book is:  [['ram', 'feluda', 487864, 1998, 450], ['shyam', 'nonte', 5748781, 2000, 890], ['jadu', 'fonte', 548784, 2010, 750], ['madhu', 'tenida', 84845, 2003, 250]]\n"
     ]
    }
   ],
   "source": [
    "#(a)\n",
    "\n",
    "auth_name = ['ram','shyam','jadu','madhu']\n",
    "title = ['feluda','nonte','fonte','tenida']\n",
    "isbn = [487864,5748781,548784,84845]\n",
    "year = [1998,2000,2010,2003]\n",
    "pages = [450,890,750,250]\n",
    "\n",
    "catalog = []\n",
    "for ite in zip(auth_name,title,isbn,year,pages):\n",
    "    catalog.append(list(ite))\n",
    "\n",
    "print(\"the catalog of four book is: \",catalog)"
   ]
  },
  {
   "cell_type": "code",
   "execution_count": 5,
   "id": "8799c291",
   "metadata": {},
   "outputs": [
    {
     "name": "stdout",
     "output_type": "stream",
     "text": [
      "[['ram', 'feluda', 487864, 1998, 450], ['shyam', 'nonte', 5748781, 2000, 890], ['madhu', 'tenida', 84845, 2003, 250], ['jadu', 'fonte', 548784, 2010, 750], ['rahim', 'byomkesh', 418484525, 2023, 800], ['rahim', 'byomkesh', 418484525, 2023, 800], ['rahim', 'byomkesh', 418484525, 2023, 800]]\n"
     ]
    }
   ],
   "source": [
    "#(b)\n",
    "\n",
    "catalog.append(['rahim','byomkesh',418484525,2023,800])\n",
    "#catalog.pop()\n",
    "#print(catalog)\n",
    "catalog.sort(key=lambda catalog:catalog[3])\n",
    "print(catalog)"
   ]
  },
  {
   "cell_type": "code",
   "execution_count": 6,
   "id": "9d7c66b7",
   "metadata": {},
   "outputs": [
    {
     "name": "stdout",
     "output_type": "stream",
     "text": [
      "[['ram', 'feluda', 487864, 1998, 450], ['madhu', 'tenida', 84845, 2003, 250], ['jadu', 'fonte', 548784, 2010, 750], ['rahim', 'byomkesh', 418484525, 2023, 800], ['rahim', 'byomkesh', 418484525, 2023, 800], ['rahim', 'byomkesh', 418484525, 2023, 800]]\n"
     ]
    }
   ],
   "source": [
    "#(c)\n",
    "\n",
    "loc = 5748781\n",
    "for i in catalog:\n",
    "    if(i[2]==loc):\n",
    "        catalog.remove(i)\n",
    "print(catalog)"
   ]
  },
  {
   "cell_type": "code",
   "execution_count": 40,
   "id": "ad2cacc7",
   "metadata": {},
   "outputs": [
    {
     "name": "stdout",
     "output_type": "stream",
     "text": [
      "[['ram', 'feluda', 487864, 1998, 450], ['madhu', 'tenida', 84845, 2003, 250], ['jadu', 'fonte', 548784, 2010, 750], ['rahim', 'byomkesh', 418484525, 2023, 800], ['abhirup', 'ode', 4782211, 2006, 356]]\n"
     ]
    }
   ],
   "source": [
    "#(d)\n",
    "\n",
    "book = ['abhirup','ode',4782211,2006,356]\n",
    "catalog.append(book)\n",
    "print(catalog)"
   ]
  },
  {
   "cell_type": "code",
   "execution_count": 41,
   "id": "98db422b",
   "metadata": {},
   "outputs": [
    {
     "name": "stdout",
     "output_type": "stream",
     "text": [
      "catalog with duplicate books:  [['ram', 'feluda', 487864, 1998, 450], ['madhu', 'tenida', 84845, 2003, 250], ['jadu', 'fonte', 548784, 2010, 750], ['rahim', 'byomkesh', 418484525, 2023, 800], ['abhirup', 'ode', 4782211, 2006, 356], ['rahim', 'byomkesh', 418484525, 2023, 800]]\n",
      "after deleting the duplicate book:  [['ram', 'feluda', 487864, 1998, 450], ['madhu', 'tenida', 84845, 2003, 250], ['jadu', 'fonte', 548784, 2010, 750], ['abhirup', 'ode', 4782211, 2006, 356], ['rahim', 'byomkesh', 418484525, 2023, 800]]\n"
     ]
    }
   ],
   "source": [
    "#e\n",
    "\n",
    "dupli = ['rahim','byomkesh',418484525,2023,800]\n",
    "isbn_num = 418484525\n",
    "catalog.append(dupli)\n",
    "print(\"catalog with duplicate books: \",catalog)\n",
    "for i in catalog:\n",
    "    if(i[2]==418484525):\n",
    "        catalog.remove(i)\n",
    "        break\n",
    "print(\"after deleting the duplicate book: \",catalog)"
   ]
  },
  {
   "cell_type": "code",
   "execution_count": 42,
   "id": "52e79ec1",
   "metadata": {},
   "outputs": [
    {
     "name": "stdout",
     "output_type": "stream",
     "text": [
      "[['rahim', 'byomkesh', 418484525, 2023, 800], ['jadu', 'fonte', 548784, 2010, 750], ['ram', 'feluda', 487864, 1998, 450], ['abhirup', 'ode', 4782211, 2006, 356], ['madhu', 'tenida', 84845, 2003, 250]]\n"
     ]
    }
   ],
   "source": [
    "#f\n",
    "\n",
    "catalog.sort(key=lambda catalog:catalog[4])\n",
    "print(catalog[::-1])"
   ]
  },
  {
   "cell_type": "markdown",
   "id": "8921596d",
   "metadata": {},
   "source": [
    "# 2. Write a program using list comprehension\n",
    "\n",
    "a) To add the corresponding elements of two lists and print the new list.\n",
    "\n",
    "b) To perform element wise multiplication of two lists and print the new list.\n",
    "\n",
    "c) To create a list of the unique characters of a given string. \n",
    "\n",
    "Eg: input = “hello” , output = [‘h’, ‘e’, ‘l’, ‘o’]\n",
    "\n"
   ]
  },
  {
   "cell_type": "code",
   "execution_count": 19,
   "id": "206973b8",
   "metadata": {},
   "outputs": [
    {
     "name": "stdout",
     "output_type": "stream",
     "text": [
      "the addition of the corresponding elements of the two lists:  [10, 9, 11, 10, 13, 13]\n"
     ]
    }
   ],
   "source": [
    "#(a)\n",
    "\n",
    "list1 = [1,2,3,4,8,9]\n",
    "list2 = [9,7,8,6,5,4]\n",
    "add_list = [list1[i] + list2[i] for i in range(0,len(list1))]\n",
    "print(\"the addition of the corresponding elements of the two lists: \",add_list)"
   ]
  },
  {
   "cell_type": "code",
   "execution_count": 20,
   "id": "e0a0b5dc",
   "metadata": {},
   "outputs": [
    {
     "name": "stdout",
     "output_type": "stream",
     "text": [
      "the multiplication of the corresponding elements of the two lists:  [9, 14, 24, 24, 40, 36]\n"
     ]
    }
   ],
   "source": [
    "#(b)\n",
    "\n",
    "list1 = [1,2,3,4,8,9]\n",
    "list2 = [9,7,8,6,5,4]\n",
    "mul_list = [list1[i] * list2[i] for i in range(0,len(list1))]\n",
    "print(\"the multiplication of the corresponding elements of the two lists: \",mul_list)"
   ]
  },
  {
   "cell_type": "code",
   "execution_count": 22,
   "id": "65427873",
   "metadata": {},
   "outputs": [
    {
     "name": "stdout",
     "output_type": "stream",
     "text": [
      "enter a string: hello\n",
      "the required list:  ['h', 'e', 'l', 'o']\n"
     ]
    }
   ],
   "source": [
    "#(c)\n",
    "\n",
    "str1 = input('enter a string: ')\n",
    "u_list = []\n",
    "[u_list.append(i) for i in str1 if i not in u_list]\n",
    "print(\"the required list: \",u_list)"
   ]
  },
  {
   "cell_type": "markdown",
   "id": "1b89388e",
   "metadata": {},
   "source": [
    "# 3. Using the zip function, WAP\n",
    "\n",
    "a) To add the elements of 2 matrices (Define matrices as per your wish).\n",
    "\n",
    "b) To perform element wise multiplication on 2 matrices.\n"
   ]
  },
  {
   "cell_type": "code",
   "execution_count": 23,
   "id": "89a11716",
   "metadata": {},
   "outputs": [
    {
     "name": "stdout",
     "output_type": "stream",
     "text": [
      "the addition of the matrices is: [[13, 12], [17, 13]]\n"
     ]
    }
   ],
   "source": [
    "#(a)\n",
    "\n",
    "l1 = [[6,4],[9,4]]\n",
    "l2 = [[7,8],[8,9]]\n",
    "sum_l = []\n",
    "for ite1,ite2 in zip(l1,l2):\n",
    "    emp=[]\n",
    "    for i,j in zip(ite1,ite2):\n",
    "        emp.append(i+j)\n",
    "    sum_l.append(emp)\n",
    "print(\"the addition of the matrices is:\",sum_l)"
   ]
  },
  {
   "cell_type": "code",
   "execution_count": 24,
   "id": "2ee0cc88",
   "metadata": {},
   "outputs": [
    {
     "name": "stdout",
     "output_type": "stream",
     "text": [
      "the multiplication(element wise) of the matrices is:  [[42, 32], [72, 36]]\n"
     ]
    }
   ],
   "source": [
    "#(b)\n",
    "\n",
    "l1 = [[6,4],[9,4]]\n",
    "l2 = [[7,8],[8,9]]\n",
    "mul_l = []\n",
    "for ite1,ite2 in zip(l1,l2):\n",
    "    emp=[]\n",
    "    for i,j in zip(ite1,ite2):\n",
    "        emp.append(i*j)\n",
    "    mul_l.append(emp)\n",
    "print(\"the multiplication(element wise) of the matrices is: \",mul_l)"
   ]
  },
  {
   "cell_type": "markdown",
   "id": "b22628cd",
   "metadata": {},
   "source": [
    "# 4. List of List : Given a square matrix represented as a list of lists, \n",
    "\n",
    "a) WAP to print the row sum, column sum and trace of the matrix \n",
    "\n",
    "b) WAP to print the transpose of the matrix.\n",
    "\n",
    "c) WAP to check whether the given matrix is symmetric or not.\n",
    "\n",
    "d) WAP to check whether the Identity matrix (I) is positive definite or not by using Quadratic form method (x^T*I*x > 0), where x is any non zero vector."
   ]
  },
  {
   "cell_type": "code",
   "execution_count": 25,
   "id": "256c3569",
   "metadata": {},
   "outputs": [
    {
     "name": "stdout",
     "output_type": "stream",
     "text": [
      "the row sum of the matrix is:  10\n",
      "the row sum of the matrix is:  13\n",
      "the column sum of the matrix is: 15\n",
      "the column sum of the matrix is: 8\n",
      "the trace of the matrix is:  10\n"
     ]
    }
   ],
   "source": [
    "#(a)\n",
    "\n",
    "l1 = [[6,4],[9,4]]\n",
    "row_sum1 = 0\n",
    "row_sum2 = 0\n",
    "col_sum1 = 0\n",
    "col_sum2 = 0\n",
    "trace = 0\n",
    "for ite1 in zip(l1):\n",
    "    print(\"the row sum of the matrix is: \",ite1[0][1]+ite1[0][0])\n",
    "    for ite2 in ite1:\n",
    "        col_sum1 = col_sum1 + ite2[0]\n",
    "        col_sum2 = col_sum2 + ite2[1]\n",
    "print(\"the column sum of the matrix is:\",col_sum1)\n",
    "print(\"the column sum of the matrix is:\",col_sum2)\n",
    "\n",
    "for i in range(0,len(l1)):\n",
    "    trace = trace+l1[i][i]\n",
    "\n",
    "print(\"the trace of the matrix is: \",trace)"
   ]
  },
  {
   "cell_type": "code",
   "execution_count": 26,
   "id": "fcde7454",
   "metadata": {},
   "outputs": [
    {
     "name": "stdout",
     "output_type": "stream",
     "text": [
      "transpose: [[6, 9], [4, 4]]\n"
     ]
    }
   ],
   "source": [
    "#b\n",
    "\n",
    "l1 = [[6,4],[9,4]]\n",
    "trans = []\n",
    "for ite in zip(*l1):\n",
    "    trans.append(list(ite))\n",
    "print(\"transpose:\",trans)"
   ]
  },
  {
   "cell_type": "code",
   "execution_count": 27,
   "id": "87434a84",
   "metadata": {},
   "outputs": [
    {
     "name": "stdout",
     "output_type": "stream",
     "text": [
      "printing the above matrix is symmetric or not: False\n"
     ]
    }
   ],
   "source": [
    "#c\n",
    "\n",
    "print(\"printing the above matrix is symmetric or not:\",l1==trans)"
   ]
  },
  {
   "cell_type": "markdown",
   "id": "5221f7cb",
   "metadata": {},
   "source": [
    "# 5.  List of Lists : WAP to remove sub lists from a given list of lists that contain an element outside a given range.\n",
    "\n",
    "Example :\n",
    "\n",
    "Input : [[3], [1, 3, 2], [0, 1, 9, 3, 5, 7], [9, 10], [13, 14, 16, 17]]  Range: 1, 5\n",
    "\n",
    "Output : [[3], [1, 3, 2]]\n",
    "\n",
    "Explanation : If a sublist has a number that is other than 1, 2, 3, 4, 5, remove the sublist from the list of lists and print the remaining sublists as a lists of lists"
   ]
  },
  {
   "cell_type": "code",
   "execution_count": 28,
   "id": "73865f29",
   "metadata": {},
   "outputs": [
    {
     "name": "stdout",
     "output_type": "stream",
     "text": [
      "[[3], [1, 3, 2]]\n"
     ]
    }
   ],
   "source": [
    "lis = [[3], [1, 3, 2], [0, 1, 9, 3, 5, 7], [9, 10], [13, 14, 16, 17]]\n",
    "sublis = [i for i in lis if max(i)<6 and min(i)>0]\n",
    "print(sublis)"
   ]
  },
  {
   "cell_type": "code",
   "execution_count": null,
   "id": "2eefa8c6",
   "metadata": {},
   "outputs": [],
   "source": []
  }
 ],
 "metadata": {
  "kernelspec": {
   "display_name": "Python 3 (ipykernel)",
   "language": "python",
   "name": "python3"
  },
  "language_info": {
   "codemirror_mode": {
    "name": "ipython",
    "version": 3
   },
   "file_extension": ".py",
   "mimetype": "text/x-python",
   "name": "python",
   "nbconvert_exporter": "python",
   "pygments_lexer": "ipython3",
   "version": "3.10.7"
  }
 },
 "nbformat": 4,
 "nbformat_minor": 5
}
