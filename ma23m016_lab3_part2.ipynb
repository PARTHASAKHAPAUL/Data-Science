{
 "cells": [
  {
   "cell_type": "markdown",
   "id": "c518a48f",
   "metadata": {},
   "source": [
    "# 6. List comprehension  : Given two lists of equal length, list1 contains the integers and list2 contains alphabets. Using list comprehension, WAP\n",
    "\n",
    "a) To generate a list containing the squares of elements from list1.\n",
    "\n",
    "b) To generate a list containing pairwise corresponding elements in the form of tuple.\n",
    "\n",
    "c) To generate a list containing all possible combinations of elements from the two lists.\n",
    "\n",
    "d) To generate a list containing elements of list1 and list2 alternatively.\n",
    "\n",
    "Example:\n",
    "\n",
    "Input:\n",
    "\n",
    "list1 = [1,2]   list2 = ['a','b']\n",
    "\n",
    "Output:\n",
    "\n",
    "a) [1, 4]\n",
    "\n",
    "b) [(1,'a'), (2,'b')]\n",
    "\n",
    "c) [(1,'a'),(1,'b'),(2,'a'), (2,'b')]\n",
    "\n",
    "d) [1,'a',2,'b']"
   ]
  },
  {
   "cell_type": "code",
   "execution_count": 3,
   "id": "98309bff",
   "metadata": {},
   "outputs": [
    {
     "name": "stdout",
     "output_type": "stream",
     "text": [
      "[1, 4]\n"
     ]
    }
   ],
   "source": [
    "#(a)\n",
    "list1 = [1,2] \n",
    "# print(list1[0])\n",
    "list2 = ['a','b']\n",
    "sq = [i*i for i in list1]\n",
    "print(sq)"
   ]
  },
  {
   "cell_type": "code",
   "execution_count": 2,
   "id": "c9169e30",
   "metadata": {},
   "outputs": [
    {
     "name": "stdout",
     "output_type": "stream",
     "text": [
      "[(1, 'a'), (2, 'b')]\n"
     ]
    }
   ],
   "source": [
    "#(b)\n",
    "pack = [ite1 for ite1 in zip(list1,list2)]\n",
    "print(pack)"
   ]
  },
  {
   "cell_type": "code",
   "execution_count": 3,
   "id": "9b89c47d",
   "metadata": {},
   "outputs": [
    {
     "name": "stdout",
     "output_type": "stream",
     "text": [
      "[(1, 'a'), (1, 'b'), (2, 'a'), (2, 'b')]\n"
     ]
    }
   ],
   "source": [
    "#(c)\n",
    "comb=[]\n",
    "for i in list1:\n",
    "    for j in list2:\n",
    "        comb.append((i,j))\n",
    "print(comb)"
   ]
  },
  {
   "cell_type": "code",
   "execution_count": 14,
   "id": "aa472814",
   "metadata": {},
   "outputs": [
    {
     "name": "stdout",
     "output_type": "stream",
     "text": [
      "[1, 'a', 2, 'b']\n"
     ]
    }
   ],
   "source": [
    "#(d)\n",
    "comb1 = []\n",
    "for ite in zip(list1,list2):\n",
    "    for ite1 in ite:\n",
    "        comb1.append(ite1)\n",
    "print(comb1)"
   ]
  },
  {
   "cell_type": "markdown",
   "id": "4b57ac9a",
   "metadata": {},
   "source": [
    "# 8. Write a code snippet in Python that takes a string as input and returns a tuple of tuples. Each inner tuple should contain a character from the input string and its corresponding ASCII value.\n",
    "\n",
    "Sample example: Input_string = \"Design\",  Output_tuple = (('D', 68), ('e', 101), ('s', 115), ('i', 105), ('g', 103),('n', 110) )\n",
    "\n"
   ]
  },
  {
   "cell_type": "code",
   "execution_count": 18,
   "id": "96c7a3ab",
   "metadata": {},
   "outputs": [
    {
     "name": "stdout",
     "output_type": "stream",
     "text": [
      "(('D', 68), ('e', 101), ('s', 115), ('i', 105), ('g', 103), ('n', 110))\n"
     ]
    }
   ],
   "source": [
    "in_str = \"Design\"\n",
    "out = []\n",
    "for c in in_str:\n",
    "    out.append((c,ord(c)))\n",
    "out = tuple(out)\n",
    "print(out)"
   ]
  },
  {
   "cell_type": "markdown",
   "id": "f1e82579",
   "metadata": {},
   "source": [
    "# 9. Create a program that takes a list of tuples containing student name and roll number and returns a new list of tuples containing only those tuples whose first element is a vowel (a, e, i, o, u, A, E, I, O, U).\n",
    "\n",
    "Sample example: list_of_tuples = [(\"aditi\", 1), (\"tanya\", 2)], Output_list_of_tuples = [(\"aditi\", 1)]"
   ]
  },
  {
   "cell_type": "code",
   "execution_count": 16,
   "id": "8775d6fb",
   "metadata": {},
   "outputs": [
    {
     "name": "stdout",
     "output_type": "stream",
     "text": [
      "[('aditi', 1), ('abc', 3)]\n"
     ]
    }
   ],
   "source": [
    "l_tup =  [(\"aditi\", 1), (\"tanya\", 2),(\"abc\", 3),(\"sahil\",4)]\n",
    "new_l = []\n",
    "vowels = ['a','i','e','o','u']\n",
    "for i in l_tup:\n",
    "    if(i[0][0].lower() in vowels):\n",
    "        new_l.append(i)\n",
    "print(new_l)"
   ]
  },
  {
   "cell_type": "markdown",
   "id": "e01bf5a9",
   "metadata": {},
   "source": [
    "# 10.  Create a set of all numbers between 1 and 20 that are either divisible by 3 or 5, using set comprehension.\n",
    "\n"
   ]
  },
  {
   "cell_type": "code",
   "execution_count": 8,
   "id": "25742f54",
   "metadata": {},
   "outputs": [
    {
     "name": "stdout",
     "output_type": "stream",
     "text": [
      "{3, 5, 6, 9, 10, 12, 15, 18, 20}\n"
     ]
    }
   ],
   "source": [
    "s = {i for i in range(1,21) if i%3 == 0 or i%5 == 0}\n",
    "print(s)"
   ]
  }
 ],
 "metadata": {
  "kernelspec": {
   "display_name": "Python 3 (ipykernel)",
   "language": "python",
   "name": "python3"
  },
  "language_info": {
   "codemirror_mode": {
    "name": "ipython",
    "version": 3
   },
   "file_extension": ".py",
   "mimetype": "text/x-python",
   "name": "python",
   "nbconvert_exporter": "python",
   "pygments_lexer": "ipython3",
   "version": "3.10.7"
  }
 },
 "nbformat": 4,
 "nbformat_minor": 5
}
