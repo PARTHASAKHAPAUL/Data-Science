{
 "cells": [
  {
   "cell_type": "markdown",
   "id": "47e5c369",
   "metadata": {},
   "source": [
    "# 1. Write a program(WAP) using loops and recursion: \n",
    "\n",
    "a) Factorial of n where n is a non negative integer. \n",
    "\n",
    "b) For calculating the Nth Fibonacci number.\n",
    "\n",
    "c) To calculate a^b where a>0, b>=0.\n"
   ]
  },
  {
   "cell_type": "code",
   "execution_count": 115,
   "id": "07f729f9",
   "metadata": {},
   "outputs": [
    {
     "name": "stdout",
     "output_type": "stream",
     "text": [
      "the factorial of given number(here -1) by loop is:  Not possible bcz its negative number\n",
      "the factorial of given number(here 10) by loop is:  3628800\n",
      "the factorial of given number(here -1) by recursion is:  Not possible bcz its negative number\n",
      "the factorial of given number(here 10) by recursion is:  3628800\n"
     ]
    }
   ],
   "source": [
    "#a   factorial\n",
    "\n",
    "#(using loops)\n",
    "def fact_loop(a):\n",
    "    mul = 1\n",
    "    if a < 0:\n",
    "        return \"Not possible bcz its negative number\"\n",
    "    elif a == 0:\n",
    "        return 1\n",
    "    else:\n",
    "        for i in range(1,a+1):\n",
    "            mul = mul*i\n",
    "        return mul\n",
    "\n",
    "\n",
    "#(using recursion)\n",
    "def fact_rec(a):\n",
    "    if a < 0:\n",
    "        return \"Not possible bcz its negative number\"\n",
    "    elif a == 0:\n",
    "        return 1\n",
    "    elif a == 1:\n",
    "        return 1\n",
    "    else:\n",
    "        return a*fact_rec(a-1)\n",
    "    \n",
    "a = -1\n",
    "b = 10\n",
    "print(\"the factorial of given number(here -1) by loop is: \",fact_loop(a))\n",
    "print(\"the factorial of given number(here 10) by loop is: \",fact_loop(b))\n",
    "print(\"the factorial of given number(here -1) by recursion is: \",fact_rec(a))\n",
    "print(\"the factorial of given number(here 10) by recursion is: \",fact_rec(b))"
   ]
  },
  {
   "cell_type": "code",
   "execution_count": 116,
   "id": "afdc4e1c",
   "metadata": {},
   "outputs": [
    {
     "name": "stdout",
     "output_type": "stream",
     "text": [
      "The 9th Fibonacci number by loop is:  21\n",
      "The 11th fibonacci number by recursion is: 55\n"
     ]
    }
   ],
   "source": [
    "#b   fibonacci\n",
    "\n",
    "#(using loops)\n",
    "def fibo_loop(n):\n",
    "    num1 = 0\n",
    "    num2 = 1\n",
    "    for i in range(n):\n",
    "        f = num1 + num2\n",
    "        num1 = num2\n",
    "        num2 = f\n",
    "    return num1\n",
    "\n",
    "n = 8\n",
    "print(f\"The {n+1}th Fibonacci number by loop is: \",fibo_loop(n))\n",
    "\n",
    "\n",
    "#(using recursion)\n",
    "def fibo_rec(a):\n",
    "    if a < 0:\n",
    "        return \"Not possible bcz its negative number\"\n",
    "    elif a == 0:\n",
    "        return 0\n",
    "    if a == 1:\n",
    "        return 1\n",
    "    else:\n",
    "        return fibo_rec(a-1) + fibo_rec(a-2)\n",
    "    \n",
    "a = 10\n",
    "print(f'The {a+1}th fibonacci number by recursion is:',fibo_rec(a))"
   ]
  },
  {
   "cell_type": "code",
   "execution_count": 1,
   "id": "88e82ecd",
   "metadata": {},
   "outputs": [
    {
     "name": "stdout",
     "output_type": "stream",
     "text": [
      "3^7 (by loop) = 2187\n",
      "3^7 (by recursion) = 2187\n"
     ]
    }
   ],
   "source": [
    "#c  a^b\n",
    "\n",
    "def power_loop(a, b):\n",
    "    mul1 = 1\n",
    "    for i in range(b):\n",
    "        mul1 *= a\n",
    "    return mul1\n",
    "\n",
    "\n",
    "def power_rec(a, b):\n",
    "    if b == 0:\n",
    "        return 1\n",
    "    else:\n",
    "        return a * power_rec(a, b - 1)\n",
    "\n",
    "# Calculating 3^7\n",
    "a = 3\n",
    "b = 7\n",
    "res1 = power_loop(a, b)\n",
    "print(f\"{a}^{b} (by loop) = {res1}\")\n",
    "res2 = power_rec(a, b)\n",
    "print(f\"{a}^{b} (by recursion) = {res2}\")"
   ]
  },
  {
   "cell_type": "markdown",
   "id": "c324d8c6",
   "metadata": {},
   "source": [
    "# 2. Query for 2 integers N and M from the user where 0<=N<=100 and 0<=M<=9. These will be the inputs to your function. Using recursion, compute the number of times the integer M occurs in all non-negative integers less than or equal to N.\n",
    "example: For N=13 and M=1, count=6 (numbers 1,10,11,12,13)."
   ]
  },
  {
   "cell_type": "code",
   "execution_count": 118,
   "id": "a59491b2",
   "metadata": {},
   "outputs": [
    {
     "name": "stdout",
     "output_type": "stream",
     "text": [
      "Number of times 1 occurs in all non-negative integers up to 13: 6\n"
     ]
    }
   ],
   "source": [
    "def count_repeats1(n, m):\n",
    "    if n < 0:\n",
    "        return 0\n",
    "    \n",
    "    n_str = str(n)\n",
    "    m_str = str(m)\n",
    "    count = n_str.count(m_str)\n",
    "    count += count_repeats1(n - 1, m)\n",
    "    return count\n",
    "\n",
    "N = 13\n",
    "M = 1\n",
    "\n",
    "if 0 <= N <= 100 and 0 <= M <= 9:\n",
    "    result = count_repeats1(N, M)\n",
    "    print(f\"Number of times {M} occurs in all non-negative integers up to {N}: {result}\")\n",
    "else:\n",
    "    print(\"Invalid input. Please make sure 0 <= N <= 100 and 0 <= M <= 9.\")\n"
   ]
  },
  {
   "cell_type": "markdown",
   "id": "73c263b9",
   "metadata": {},
   "source": [
    "# 3. Programs using lambda function.\n",
    "\n",
    "a) Given a list of names, use map to create a list where each name is prefixed with \"Hello, \".\n",
    "\n",
    "Example Input: ['Alice', 'Bob', 'Charlie']\n",
    "Example Output: ['Hello, Alice', 'Hello, Bob', 'Hello, Charlie']\n",
    "b) Use filter and a lambda function to extract all even numbers from a given list.\n",
    "\n",
    "Example Input: [1, 2, 3, 4, 5, 6]\n",
    "Example Output: [2, 4, 6]\n",
    "c) Use reduce and lambda to concatenate all strings in a given list.\n",
    "\n",
    "Example Input: ['Python', 'is', 'awesome']\n",
    "Example Output: 'Pythonisawesome'"
   ]
  },
  {
   "cell_type": "code",
   "execution_count": 4,
   "id": "26c9a05d",
   "metadata": {},
   "outputs": [
    {
     "name": "stdout",
     "output_type": "stream",
     "text": [
      "New Output: ['Hello, Alice', 'Hello, Bob', 'Hello, Charlie']\n"
     ]
    }
   ],
   "source": [
    "#a\n",
    "\n",
    "def add_hello(name):\n",
    "    return f\"Hello, {name}\"\n",
    "\n",
    "l1 = ['Alice', 'Bob', 'Charlie']\n",
    "\n",
    "# using map() with lambda function\n",
    "new_l1 = list(map(lambda x: add_hello(x), l1))\n",
    "\n",
    "print(\"New Output:\", new_l1)"
   ]
  },
  {
   "cell_type": "code",
   "execution_count": 8,
   "id": "539bb64b",
   "metadata": {},
   "outputs": [
    {
     "name": "stdout",
     "output_type": "stream",
     "text": [
      "Even numbered Output: [2, 4, 6]\n"
     ]
    }
   ],
   "source": [
    "\n",
    "\n",
    "\n",
    "#b\n",
    "\n",
    "l2 = [1, 2, 3, 4, 5, 6]\n",
    "\n",
    "# Using filter() with lambda function\n",
    "even_l2 = list(filter(lambda x: x % 2 == 0, l2))\n",
    "\n",
    "print(\"Even numbered Output:\", even_l2)"
   ]
  },
  {
   "cell_type": "code",
   "execution_count": 24,
   "id": "2c2f838b",
   "metadata": {},
   "outputs": [
    {
     "name": "stdout",
     "output_type": "stream",
     "text": [
      "Concatenated Output: Pythonisawesome\n"
     ]
    }
   ],
   "source": [
    "#c\n",
    "from functools import reduce\n",
    "\n",
    "l3 = ['Python', 'is', 'awesome']\n",
    "\n",
    "# Using reduce() with lambda function\n",
    "concatenated_l3 = reduce(lambda x, y: x + y, l3)\n",
    "\n",
    "print(\"Concatenated Output:\", concatenated_l3)"
   ]
  },
  {
   "cell_type": "markdown",
   "id": "7ff23841",
   "metadata": {},
   "source": [
    "# 4.  Define a class Complex that defines a complex number with attributes real and imaginary (as we did in the class). Define operators for addition, subtraction, multiplication and division (Do with both operator overloading as well as without overloading). While printing the output, print in the form of complex number form like ( a + ib)"
   ]
  },
  {
   "cell_type": "code",
   "execution_count": 122,
   "id": "1260eb6c",
   "metadata": {},
   "outputs": [
    {
     "name": "stdout",
     "output_type": "stream",
     "text": [
      "printing results without operator overloading\n",
      "Addition: 3 + 7i\n",
      "Subtraction: 1 + -1i\n",
      "Multiplication: -10 + 11i\n",
      "Division: 0.8235294117647058 + -0.29411764705882354i\n",
      "\n",
      "printing results out operator overloading\n",
      "Addition: 3 + 7i\n",
      "Subtraction: 1 + -1i\n",
      "Multiplication: -10 + 11i\n",
      "Division: 0.8235294117647058 + -0.29411764705882354i\n"
     ]
    }
   ],
   "source": [
    "class complex1:\n",
    "    def __init__(self, real, img):\n",
    "        self.real = real\n",
    "        self.img = img\n",
    "\n",
    "    def __str__(self):\n",
    "        return f\"{self.real} + {self.img}i\"\n",
    "    \n",
    "    \n",
    "    #without operator overloading\n",
    "    def add_comp(a, b):\n",
    "        real_part = a.real + b.real\n",
    "        im_part = a.img + b.img\n",
    "        return complex1(real_part, im_part)\n",
    "\n",
    "    def sub_comp(a, b):\n",
    "        real_part = a.real - b.real\n",
    "        im_part = a.img - b.img\n",
    "        return complex1(real_part, im_part)\n",
    "\n",
    "    def mul_comp(a, b):\n",
    "        # (a + ib) * (c + id) = (ac - bd) + i(ad + bc)\n",
    "        real_part = a.real * b.real - a.img * b.img\n",
    "        im_part = a.real * b.img + a.img * b.real\n",
    "        return complex1(real_part, im_part)\n",
    "\n",
    "    def div_comp(a, b):\n",
    "        # (a + ib) / (c + id) = [(ac + bd) + i(bc - ad)] / (c^2 + d^2)\n",
    "        denominator = b.real**2 + b.img**2\n",
    "        real_part = (a.real * b.real + a.img * b.img) / denominator\n",
    "        im_part = (a.img * b.real - a.real * b.img) / denominator\n",
    "        return complex1(real_part, im_part)\n",
    "\n",
    "    \n",
    "    #operators overloading\n",
    "    def __add__(self, other):\n",
    "        return complex1(self.real + other.real, self.img + other.img)\n",
    "\n",
    "    def __sub__(self, other):\n",
    "        return complex1(self.real - other.real, self.img - other.img)\n",
    "\n",
    "    def __mul__(self, other):\n",
    "        # (a + ib) * (c + id) = (ac - bd) + i(ad + bc)\n",
    "        real_part = self.real * other.real - self.img * other.img\n",
    "        im_part = self.real * other.img + self.img * other.real\n",
    "        return complex1(real_part, im_part)\n",
    "    \n",
    "    def __truediv__(self, other):\n",
    "        # (a + ib) / (c + id) = [(ac + bd) + i(bc - ad)] / (c^2 + d^2)\n",
    "        denominator = other.real**2 + other.img**2\n",
    "        real_part = (self.real * other.real + self.img * other.img) / denominator\n",
    "        im_part = (self.img * other.real - self.real * other.img) / denominator\n",
    "        return complex1(real_part, im_part)\n",
    "\n",
    "a = complex1(2, 3)\n",
    "b = complex1(1, 4)\n",
    "\n",
    "print('printing results without operator overloading')\n",
    "print(\"Addition:\", a.add_comp(b))\n",
    "print(\"Subtraction:\", a.sub_comp(b))\n",
    "print(\"Multiplication:\", a.mul_comp(b))\n",
    "print(\"Division:\", a.div_comp(b))\n",
    "\n",
    "\n",
    "print()\n",
    "print('printing results out operator overloading')\n",
    "print(\"Addition:\", a + b)\n",
    "print(\"Subtraction:\", a - b)\n",
    "print(\"Multiplication:\", a * b)\n",
    "print(\"Division:\", a / b)"
   ]
  }
 ],
 "metadata": {
  "kernelspec": {
   "display_name": "Python 3 (ipykernel)",
   "language": "python",
   "name": "python3"
  },
  "language_info": {
   "codemirror_mode": {
    "name": "ipython",
    "version": 3
   },
   "file_extension": ".py",
   "mimetype": "text/x-python",
   "name": "python",
   "nbconvert_exporter": "python",
   "pygments_lexer": "ipython3",
   "version": "3.10.7"
  }
 },
 "nbformat": 4,
 "nbformat_minor": 5
}
