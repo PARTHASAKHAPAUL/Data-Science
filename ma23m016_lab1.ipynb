{
 "cells": [
  {
   "cell_type": "markdown",
   "id": "888c8017",
   "metadata": {},
   "source": [
    "# 1.1\n",
    "7*ln(3)*[ln(5)+ln(e^3)]"
   ]
  },
  {
   "cell_type": "code",
   "execution_count": 32,
   "id": "f519c4b4",
   "metadata": {},
   "outputs": [
    {
     "name": "stdout",
     "output_type": "stream",
     "text": [
      "35.44789594116947\n"
     ]
    }
   ],
   "source": [
    "import math\n",
    "a = 7 * math.log(3) * (math.log(5) + math.log(math.exp(3)))\n",
    "print(a)"
   ]
  },
  {
   "cell_type": "markdown",
   "id": "9b2b0cac",
   "metadata": {},
   "source": [
    "\n",
    "# 1.2 \n",
    "[Difference in area between two concentric circles of diameter 5m and 3m]"
   ]
  },
  {
   "cell_type": "code",
   "execution_count": 33,
   "id": "1b790ec7",
   "metadata": {},
   "outputs": [
    {
     "name": "stdout",
     "output_type": "stream",
     "text": [
      "Difference in area between two concentric circles of diameter 5m and 3m:  12.566370614359172\n"
     ]
    }
   ],
   "source": [
    "r1=5/2\n",
    "r2=3/2\n",
    "print(\"Difference in area between two concentric circles of diameter 5m and 3m: \",math.pi*(pow(r1,2)-pow(r2,2)))"
   ]
  },
  {
   "cell_type": "markdown",
   "id": "a46c82ae",
   "metadata": {},
   "source": [
    "# 2\n",
    "WAP to return the count of odd numbers and even numbers between 7 and 80 (both inclusive) using arithmetic operators (without using loops) and print it using ‘format strings’ in a single line. (Refer to the attached file L3_output.py for examples of using formatted strings)"
   ]
  },
  {
   "cell_type": "code",
   "execution_count": 28,
   "id": "388211a0",
   "metadata": {},
   "outputs": [
    {
     "name": "stdout",
     "output_type": "stream",
     "text": [
      "the count of even numbers between 7 and 80(both inclusive) are: 37, the count of odd numbers between 7 and 80(both inclusive) are: 36\n"
     ]
    }
   ],
   "source": [
    "even_count = (80 - 7) // 2 + 1\n",
    "odd_count = (80 - 7) // 2\n",
    "\n",
    "print(\"the count of even numbers between 7 and 80(both inclusive) are: {}, the count of odd numbers between 7 and 80(both inclusive) are: {}\".format(even_count, odd_count))"
   ]
  },
  {
   "cell_type": "markdown",
   "id": "bce7f0ec",
   "metadata": {},
   "source": [
    "# 3\n",
    "What are the different kinds of data types in python? Name them and explain their significance.WAP to demonstrate them in Python and print the size and type of each of them in ascending order."
   ]
  },
  {
   "cell_type": "markdown",
   "id": "0b703f6a",
   "metadata": {},
   "source": [
    "    The diiferent kinds of data types in python are:\n",
    "    int, float, complex, str, bool, list, tuple, set, etc.\n",
    "\n",
    "    int: represents integer numbers.\n",
    "    float: represents floating point numbers i.e, real numbers.\n",
    "    complex: to indicates complex numbers.\n",
    "    str: string or text or character array.\n",
    "    bool: represents true or false of an assertion.\n",
    "    list: an ordered collection of items.\n",
    "    tuple: an ordered immutable collection of items.\n",
    "    set: an unordered collection of unique items."
   ]
  },
  {
   "cell_type": "code",
   "execution_count": 34,
   "id": "a3d7c6a9",
   "metadata": {},
   "outputs": [
    {
     "name": "stdout",
     "output_type": "stream",
     "text": [
      "24\n",
      "<class 'float'>\n"
     ]
    }
   ],
   "source": [
    "import sys\n",
    "a=23.5\n",
    "print(sys.getsizeof(a))\n",
    "print(type(a))"
   ]
  },
  {
   "cell_type": "code",
   "execution_count": 35,
   "id": "f274fa9f",
   "metadata": {},
   "outputs": [
    {
     "name": "stdout",
     "output_type": "stream",
     "text": [
      "28\n",
      "<class 'int'>\n"
     ]
    }
   ],
   "source": [
    "import sys\n",
    "a=23\n",
    "print(sys.getsizeof(a))\n",
    "print(type(a))"
   ]
  },
  {
   "cell_type": "code",
   "execution_count": 36,
   "id": "bfc06049",
   "metadata": {},
   "outputs": [
    {
     "name": "stdout",
     "output_type": "stream",
     "text": [
      "28\n",
      "<class 'bool'>\n"
     ]
    }
   ],
   "source": [
    "e=5\n",
    "g=6\n",
    "h=e<g\n",
    "print(sys.getsizeof(h))\n",
    "print(type(h))"
   ]
  },
  {
   "cell_type": "code",
   "execution_count": 37,
   "id": "72cafe8f",
   "metadata": {},
   "outputs": [
    {
     "name": "stdout",
     "output_type": "stream",
     "text": [
      "32\n",
      "<class 'complex'>\n"
     ]
    }
   ],
   "source": [
    "import sys\n",
    "a=2+7j\n",
    "print(sys.getsizeof(a))\n",
    "print(type(a))"
   ]
  },
  {
   "cell_type": "code",
   "execution_count": 38,
   "id": "abc21934",
   "metadata": {},
   "outputs": [
    {
     "name": "stdout",
     "output_type": "stream",
     "text": [
      "55\n",
      "<class 'str'>\n"
     ]
    }
   ],
   "source": [
    "str=\"partha\"\n",
    "print(sys.getsizeof(str))\n",
    "print(type(str))"
   ]
  },
  {
   "cell_type": "code",
   "execution_count": 39,
   "id": "ee0f5b26",
   "metadata": {},
   "outputs": [
    {
     "name": "stdout",
     "output_type": "stream",
     "text": [
      "72\n",
      "<class 'tuple'>\n"
     ]
    }
   ],
   "source": [
    "tuple = (1,2,3,4)\n",
    "print(sys.getsizeof(tuple))\n",
    "print(type(tuple))"
   ]
  },
  {
   "cell_type": "code",
   "execution_count": 40,
   "id": "85525449",
   "metadata": {},
   "outputs": [
    {
     "name": "stdout",
     "output_type": "stream",
     "text": [
      "88\n",
      "<class 'list'>\n"
     ]
    }
   ],
   "source": [
    "list = [1,2,3,4]\n",
    "print(sys.getsizeof(list))\n",
    "print(type(list))"
   ]
  },
  {
   "cell_type": "code",
   "execution_count": 41,
   "id": "16741ace",
   "metadata": {},
   "outputs": [
    {
     "name": "stdout",
     "output_type": "stream",
     "text": [
      "216\n",
      "<class 'set'>\n"
     ]
    }
   ],
   "source": [
    "set = {1,2,3,4}\n",
    "print(sys.getsizeof(set))\n",
    "print(type(set))"
   ]
  },
  {
   "cell_type": "markdown",
   "id": "a22c90b7",
   "metadata": {},
   "source": [
    "# 4\n",
    "WAP to find the surface area of a cuboid with sides a,b,c. The values of a, b, c  should be random numbers generated between 10 and 100. Take the seed value as user input. (use ‘random’ module)."
   ]
  },
  {
   "cell_type": "code",
   "execution_count": 42,
   "id": "13001adb",
   "metadata": {},
   "outputs": [
    {
     "name": "stdout",
     "output_type": "stream",
     "text": [
      "enter the seed value: 56\n",
      "Generated side lengths are: a=81, b=11, c=70\n",
      "Surface Area of the cuboid: 14662\n"
     ]
    }
   ],
   "source": [
    "import random\n",
    "\n",
    "seed = int(input(\"enter the seed value: \"))\n",
    "seed_val = random.seed(seed)\n",
    "\n",
    "# random side lengths between 10 and 100\n",
    "a = random.randint(10, 100)\n",
    "b = random.randint(10, 100)\n",
    "c = random.randint(10, 100)\n",
    "\n",
    "# surface area of the cuboid\n",
    "surface_area = 2 * (a * b + b * c + c * a)\n",
    "\n",
    "print(f\"Generated side lengths are: a={a}, b={b}, c={c}\")\n",
    "print(f\"Surface Area of the cuboid: {surface_area}\")\n"
   ]
  },
  {
   "cell_type": "markdown",
   "id": "ffb8d5cf",
   "metadata": {},
   "source": [
    "# 5\n",
    "WAP to solve the quadratic equation of the form ax^2+bx+c=0, where a, b and c are real numbers and a ≠ 0 (Take a, b and c as user input)."
   ]
  },
  {
   "cell_type": "code",
   "execution_count": 43,
   "id": "1ece0d26",
   "metadata": {},
   "outputs": [
    {
     "name": "stdout",
     "output_type": "stream",
     "text": [
      "Enter the value of a: 1\n",
      "Enter the value of b: 0\n",
      "Enter the value of c: 1\n",
      "Root 1: (-0+1j)\n",
      "Root 2: -1j\n"
     ]
    }
   ],
   "source": [
    "import cmath  # complex math module\n",
    "\n",
    "a = float(input(\"Enter the value of a: \"))\n",
    "b = float(input(\"Enter the value of b: \"))\n",
    "c = float(input(\"Enter the value of c: \"))\n",
    "\n",
    "# discriminant\n",
    "discriminant = (b**2) - (4*a*c)\n",
    "\n",
    "if discriminant > 0:\n",
    "    root1 = (-b + cmath.sqrt(discriminant)) / (2*a)\n",
    "    root2 = (-b - cmath.sqrt(discriminant)) / (2*a)\n",
    "    print(\"Root 1:\", root1)\n",
    "    print(\"Root 2:\", root2)\n",
    "elif discriminant == 0:\n",
    "    root = -b / (2*a)\n",
    "    print(\"Root:\", root)\n",
    "else:\n",
    "    real_part = -b / (2*a)\n",
    "    imaginary_part = cmath.sqrt(abs(discriminant)) / (2*a)\n",
    "    root1 = complex(real_part, imaginary_part)\n",
    "    root2 = complex(real_part, -imaginary_part)\n",
    "    print(\"Root 1:\", root1)\n",
    "    print(\"Root 2:\", root2)\n"
   ]
  },
  {
   "cell_type": "markdown",
   "id": "05749cb3",
   "metadata": {},
   "source": [
    "# 6\n",
    "WAP to demonstrate various arithmetic operations by taking the two input numbers in a single line as space-separated-values (Use split function).\n",
    "\n"
   ]
  },
  {
   "cell_type": "code",
   "execution_count": 44,
   "id": "05daadaf",
   "metadata": {},
   "outputs": [
    {
     "name": "stdout",
     "output_type": "stream",
     "text": [
      "enter two numbers: 9 2\n",
      "the sum of the two values are:  11\n",
      "the subtraction of the two values are:  7\n",
      "the multiplication of the two values are:  18\n",
      "the division of the two values are:  4.5\n",
      "the power of the two values(a^b) are:  81\n",
      "the quotient the two values are:  4\n",
      "the remainder of the two values are:  1\n"
     ]
    }
   ],
   "source": [
    "a,b=input(\"enter two numbers: \").split()\n",
    "a=int(a)\n",
    "b=int(b)\n",
    "print(\"the sum of the two values are: \",a+b)\n",
    "print(\"the subtraction of the two values are: \",a-b)\n",
    "print(\"the multiplication of the two values are: \",a*b)\n",
    "print(\"the division of the two values are: \",a/b)\n",
    "print(\"the power of the two values(a^b) are: \",a**b)\n",
    "print(\"the quotient the two values are: \",a//b)\n",
    "print(\"the remainder of the two values are: \",a%b)"
   ]
  },
  {
   "cell_type": "markdown",
   "id": "639bcd91",
   "metadata": {},
   "source": [
    "# 7(a)"
   ]
  },
  {
   "cell_type": "code",
   "execution_count": 2,
   "id": "a72f1b0b",
   "metadata": {},
   "outputs": [
    {
     "name": "stdout",
     "output_type": "stream",
     "text": [
      "Learning python is fun\n"
     ]
    }
   ],
   "source": [
    "words = ['Learning', 'python', 'is', 'fun']\n",
    "sentence = ' '.join(words)\n",
    "print(sentence)"
   ]
  },
  {
   "cell_type": "markdown",
   "id": "292392ae",
   "metadata": {},
   "source": [
    "# 7(b)"
   ]
  },
  {
   "cell_type": "code",
   "execution_count": 46,
   "id": "9df2dd6e",
   "metadata": {},
   "outputs": [
    {
     "name": "stdout",
     "output_type": "stream",
     "text": [
      "Learning data science is fun\n"
     ]
    }
   ],
   "source": [
    "new_sentence = sentence.replace(\"python\", \"data science\")\n",
    "print(new_sentence)"
   ]
  },
  {
   "cell_type": "markdown",
   "id": "43804f7b",
   "metadata": {},
   "source": [
    "# 7(c)"
   ]
  },
  {
   "cell_type": "code",
   "execution_count": 47,
   "id": "08105d60",
   "metadata": {},
   "outputs": [
    {
     "name": "stdout",
     "output_type": "stream",
     "text": [
      "LEARNING PYTHON IS FUN\n"
     ]
    }
   ],
   "source": [
    "upper_sentence = sentence.upper()\n",
    "print(upper_sentence)"
   ]
  },
  {
   "cell_type": "markdown",
   "id": "98e5eca2",
   "metadata": {},
   "source": [
    "# 7(d)"
   ]
  },
  {
   "cell_type": "code",
   "execution_count": 3,
   "id": "fcf4f125",
   "metadata": {},
   "outputs": [
    {
     "name": "stdout",
     "output_type": "stream",
     "text": [
      "fun is python Learning\n"
     ]
    }
   ],
   "source": [
    "#fun is python learning\n",
    "print(' '.join(reversed(words)))"
   ]
  },
  {
   "cell_type": "markdown",
   "id": "58f682f9",
   "metadata": {},
   "source": [
    "# 7(e)"
   ]
  },
  {
   "cell_type": "code",
   "execution_count": 49,
   "id": "7789de4d",
   "metadata": {},
   "outputs": [
    {
     "name": "stdout",
     "output_type": "stream",
     "text": [
      "nuf si nohtyp gninraeL\n"
     ]
    }
   ],
   "source": [
    "#nuf si nohtyp gninrael\n",
    "rearrange_sen = sentence[::-1]\n",
    "print(rearrange_sen)"
   ]
  },
  {
   "cell_type": "markdown",
   "id": "ce4c41c5",
   "metadata": {},
   "source": [
    "# 8\n",
    "How object oriented programming in Python is different from other object oriented languages?"
   ]
  },
  {
   "cell_type": "markdown",
   "id": "7b75c953",
   "metadata": {},
   "source": [
    "    Python is dynamically typed.\n",
    "    Other languages(like c,c++) are statically typed."
   ]
  },
  {
   "cell_type": "markdown",
   "id": "1e23c51b",
   "metadata": {},
   "source": [
    "# 9\n",
    "What are ‘built-in-functions’ in Python? Explain any five."
   ]
  },
  {
   "cell_type": "markdown",
   "id": "b0f0d547",
   "metadata": {},
   "source": [
    "    The built-in functions are:\n",
    "    len(), type(), max(), min(), print().\n",
    "\n",
    "    Explanations are:\n",
    "    len(): gives the number of elements in a list, characters in a string.\n",
    "    type(): gives the datatype of a variable or object.\n",
    "    max(): gives the maximum element of a list.\n",
    "    min(): gives the minimum element of a list.\n",
    "    print(): prints the messages, variables, other information."
   ]
  },
  {
   "cell_type": "code",
   "execution_count": 50,
   "id": "a8cd68db",
   "metadata": {},
   "outputs": [
    {
     "name": "stdout",
     "output_type": "stream",
     "text": [
      "5\n",
      "<class 'list'>\n",
      "6\n",
      "1\n"
     ]
    }
   ],
   "source": [
    "l = [1,2,3,4,6]\n",
    "print(len(l))\n",
    "print(type(l))\n",
    "print(max(l))\n",
    "print(min(l))"
   ]
  },
  {
   "cell_type": "markdown",
   "id": "bd144f70",
   "metadata": {},
   "source": [
    "# 10.  WAP to:\n",
    "\n",
    "Count the number of vowels in a given string.\n",
    "\n",
    "Check if a given string is palindrome."
   ]
  },
  {
   "cell_type": "code",
   "execution_count": 16,
   "id": "887e0c04",
   "metadata": {},
   "outputs": [
    {
     "name": "stdout",
     "output_type": "stream",
     "text": [
      "Enter a string: Partha Sakha Paul\n",
      "6\n"
     ]
    }
   ],
   "source": [
    "str = input(\"Enter a string: \")\n",
    "\n",
    "#function for counting vowels\n",
    "def count_vowels(input_string):\n",
    "    sum = 0\n",
    "    input_string = input_string.lower()\n",
    "    vowels = [\"a\",\"e\",\"i\",\"o\",\"u\"]\n",
    "    for char in input_string:\n",
    "        if char in vowels:\n",
    "            sum = sum + 1\n",
    "    return sum\n",
    "\n",
    "print(count_vowels(str))"
   ]
  },
  {
   "cell_type": "code",
   "execution_count": 30,
   "id": "121e42c0",
   "metadata": {},
   "outputs": [
    {
     "name": "stdout",
     "output_type": "stream",
     "text": [
      "Enter a string: part fg gf trap\n",
      "The string is a palindrome.\n"
     ]
    }
   ],
   "source": [
    "str = input(\"Enter a string: \")\n",
    "\n",
    "def is_palindrome(input_string):\n",
    "    new_str = ''.join(input_string.lower())\n",
    "\n",
    "    # Checking if the cleaned string is equal to its reverse\n",
    "    return new_str == new_str[::-1]\n",
    "\n",
    "# Check if palindrome\n",
    "if is_palindrome(str):\n",
    "    print(\"The string is a palindrome.\")\n",
    "else:\n",
    "    print(\"The string is not a palindrome.\")\n"
   ]
  },
  {
   "cell_type": "code",
   "execution_count": null,
   "id": "fec6db88",
   "metadata": {},
   "outputs": [],
   "source": []
  }
 ],
 "metadata": {
  "kernelspec": {
   "display_name": "Python 3 (ipykernel)",
   "language": "python",
   "name": "python3"
  },
  "language_info": {
   "codemirror_mode": {
    "name": "ipython",
    "version": 3
   },
   "file_extension": ".py",
   "mimetype": "text/x-python",
   "name": "python",
   "nbconvert_exporter": "python",
   "pygments_lexer": "ipython3",
   "version": "3.10.7"
  }
 },
 "nbformat": 4,
 "nbformat_minor": 5
}
