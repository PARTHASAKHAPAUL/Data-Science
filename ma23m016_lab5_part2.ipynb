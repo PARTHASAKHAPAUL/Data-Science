{
 "cells": [
  {
   "cell_type": "markdown",
   "id": "eeea695f",
   "metadata": {},
   "source": [
    "# 5. WAP to implement a class called \"Bank_Account\" representing a person's bank account.\n",
    "The class should have the following attributes: account_holder_name (str), account_number(int), address (str) and balance (float).\n",
    "The class should have methods to implement the following:\n",
    "    deposit - Deposits a given amount into the account\n",
    "    withdraw - Withdraws a given amount from the account\n",
    "    check_balance - To get the current balance\n",
    "    update_details - To update the name and address from the user and displays a message indicating successful update\n",
    "    display_details - To display the details of the account.\n"
   ]
  },
  {
   "cell_type": "code",
   "execution_count": 1,
   "id": "e8481429",
   "metadata": {},
   "outputs": [
    {
     "name": "stdout",
     "output_type": "stream",
     "text": [
      "[2, 3, 4, 1, 2, 3, 1, 2]\n"
     ]
    }
   ],
   "source": [
    "L = [y - x for x in [1, 2, 3] for y in [3, 4, 5] if y > x]\n",
    "print(L)"
   ]
  },
  {
   "cell_type": "code",
   "execution_count": 3,
   "id": "4f79d4e1",
   "metadata": {},
   "outputs": [
    {
     "name": "stdout",
     "output_type": "stream",
     "text": [
      "[2, 3, 4, 1, 2, 3, 1, 2]\n"
     ]
    }
   ],
   "source": [
    "L = []\n",
    "for x in [1, 2, 3]:\n",
    "    for y in [3, 4, 5]:\n",
    "        if y > x:\n",
    "            L.append(y - x)\n",
    "print(L)"
   ]
  },
  {
   "cell_type": "code",
   "execution_count": 7,
   "id": "dcf5653b",
   "metadata": {},
   "outputs": [
    {
     "name": "stdout",
     "output_type": "stream",
     "text": [
      "[2, 3, 4, 1, 2, 3, 1, 2]\n"
     ]
    }
   ],
   "source": [
    "L = []\n",
    "for x in [1, 2, 3]:\n",
    "    for y in [3, 4, 5]:\n",
    "        if y > x:\n",
    "            L += [y - x]\n",
    "print(L)"
   ]
  },
  {
   "cell_type": "code",
   "execution_count": 5,
   "id": "80ded2cb",
   "metadata": {},
   "outputs": [
    {
     "name": "stdout",
     "output_type": "stream",
     "text": [
      "[2, 1, 3, 2]\n"
     ]
    }
   ],
   "source": [
    "L = []\n",
    "for y in [3, 4]:\n",
    "    for x in [1, 2]:\n",
    "        if y > x:\n",
    "            L.append(y - x)\n",
    "print(L)"
   ]
  },
  {
   "cell_type": "code",
   "execution_count": 6,
   "id": "2dea6024",
   "metadata": {},
   "outputs": [
    {
     "name": "stdout",
     "output_type": "stream",
     "text": [
      "[2, 1, 3, 2, 1, 4, 3, 2]\n"
     ]
    }
   ],
   "source": [
    "L = []\n",
    "for y in [3, 4, 5]:\n",
    "    for x in [1, 2,3]:\n",
    "        if y > x:\n",
    "            L.append(y - x)\n",
    "print(L)"
   ]
  },
  {
   "cell_type": "code",
   "execution_count": null,
   "id": "f4c6323c",
   "metadata": {},
   "outputs": [],
   "source": []
  },
  {
   "cell_type": "code",
   "execution_count": 53,
   "id": "556f613a",
   "metadata": {},
   "outputs": [
    {
     "name": "stdout",
     "output_type": "stream",
     "text": [
      "The required details of the account is::::::::\n",
      "Account Holder's Name is : Abhirup Das\n",
      "Account Holder's Account number is : 123456789\n",
      "Account Holder's Address is : 123 Park St, Sodepur\n",
      "Account Holder's Balance is :0.00\n",
      "Balance 1000.00 deposited successfully.\n",
      "The required details of the account is::::::::\n",
      "Account Holder's Name is : Abhirup Das\n",
      "Account Holder's Account number is : 123456789\n",
      "Account Holder's Address is : 123 Park St, Sodepur\n",
      "Account Holder's Balance is :1000.00\n",
      "Balance 500.00 withdrawn successfully.\n",
      "The required details of the account is::::::::\n",
      "Account Holder's Name is : Abhirup Das\n",
      "Account Holder's Account number is : 123456789\n",
      "Account Holder's Address is : 123 Park St, Sodepur\n",
      "Account Holder's Balance is :500.00\n",
      "KYC Successfully Updated\n",
      "The required details of the account is::::::::\n",
      "Account Holder's Name is : Sayan Dey\n",
      "Account Holder's Account number is : 123456789\n",
      "Account Holder's Address is : 456 Desh St, Khardah\n",
      "Account Holder's Balance is :500.00\n",
      "the balance of the account number 123456789 is: 500.00\n"
     ]
    }
   ],
   "source": [
    "class Bank_Account:\n",
    "    def __init__(self,name,acc_num,address,bal = 0.0):\n",
    "        self.__name = name\n",
    "        self.__acc_num = acc_num\n",
    "        self.__address = address\n",
    "        self.__bal = bal\n",
    "        \n",
    "    def deposit(self, bal):\n",
    "        if bal > 0:\n",
    "            self.__bal += bal\n",
    "            print(f\"Balance {bal:.2f} deposited successfully.\")\n",
    "        else:\n",
    "            print(\"Invalid deposit bal. Please enter a positive value.\")\n",
    "            \n",
    "    def withdraw(self, bal):\n",
    "        if bal > 0 and self.__bal >= bal:\n",
    "            self.__bal -= bal\n",
    "            print(f\"Balance {bal:.2f} withdrawn successfully.\")\n",
    "        else:\n",
    "            print(\"Insufficient balance or invalid withdrawal bal.\")\n",
    "            \n",
    "    def check_balance(self):\n",
    "        print(f'the balance of the account number {self.__acc_num} is: {self.__bal:.2f}')\n",
    "        \n",
    "    def update_details(self,new_name,new_add):\n",
    "        self.__name = new_name\n",
    "        self.__address = new_add\n",
    "        print('KYC Successfully Updated')\n",
    "        \n",
    "    def display_details(self):\n",
    "        print('The required details of the account is::::::::')\n",
    "        print(\"Account Holder's Name is :\",self.__name)\n",
    "        print(\"Account Holder's Account number is :\",self.__acc_num)\n",
    "        print(\"Account Holder's Address is :\",self.__address)\n",
    "        print(f\"Account Holder's Balance is :{self.__bal:.2f}\")\n",
    "\n",
    "account1 = Bank_Account(\"Abhirup Das\", 123456789, \"123 Park St, Sodepur\")\n",
    "account1.display_details()\n",
    "account1.deposit(1000)\n",
    "account1.display_details()\n",
    "account1.withdraw(500)\n",
    "account1.display_details()\n",
    "account1.update_details(\"Sayan Dey\", \"456 Desh St, Khardah\")\n",
    "account1.display_details()\n",
    "account1.check_balance()"
   ]
  },
  {
   "cell_type": "markdown",
   "id": "2b323f6b",
   "metadata": {},
   "source": [
    "# 6.  Define a Matrix class of dimensions m X n (the values for m and n can be taken as input). Demonstrate matrix addition, subtraction, multiplication, element-by-element multiplication, scalar multiplication (use map here). Use operator overloading wherever possible. (Hint: In the constructor, use 'random' and create list of list using list comprehension. In the arguments of constructor, send the number of rows and columns)\n",
    "Ensure that your implementation follows best practices for class design and encapsulation in Python. Comment your code to explain the functionality of each method.\n"
   ]
  },
  {
   "cell_type": "code",
   "execution_count": 37,
   "id": "87319f1b",
   "metadata": {},
   "outputs": [
    {
     "name": "stdout",
     "output_type": "stream",
     "text": [
      "Matrix 1:\n",
      "[[7, 8, 9], [10, 6, 1], [8, 5, 6]]\n",
      "Matrix 2:\n",
      "[[5, 5, 10], [5, 7, 9], [2, 3, 8]]\n",
      "Matrix Addition:\n",
      "[[12, 13, 19], [15, 13, 10], [10, 8, 14]]\n",
      "Matrix Subtraction:\n",
      "[[2, 3, -1], [5, -1, -8], [6, 2, -2]]\n",
      "Matrix Multiplication:\n",
      "[[93, 118, 214], [82, 95, 162], [77, 93, 173]]\n",
      "Element-wise Multiplication:\n",
      "[[35, 40, 90], [50, 42, 9], [16, 15, 48]]\n",
      "Scalar Multiplication (by 3) to Matrix 1:\n",
      "[[21, 24, 27], [30, 18, 3], [24, 15, 18]]\n"
     ]
    }
   ],
   "source": [
    "import random\n",
    "class Matrix:\n",
    "    def __init__(self,m=0,n=0):\n",
    "        self.matrix = [[random.randint(1,10) for _ in range(n)] for _ in range(m)]\n",
    "        self.m = m\n",
    "        self.n = n\n",
    "        \n",
    "    # Matrix addition\n",
    "    def __add__(self, other):\n",
    "        if self.m != other.m or self.n != other.n:\n",
    "            return \"Addition cannot possible\"\n",
    "        result = Matrix(self.m, self.n)\n",
    "        result.matrix = [[self.matrix[i][j] + other.matrix[i][j] for j in range(self.n)] for i in range(self.m)]\n",
    "        return result\n",
    "\n",
    "    # Matrix subtraction\n",
    "    def __sub__(self, other):\n",
    "        if self.m != other.m or self.n != other.n:\n",
    "            return \"Subtraction cannot possible\"     \n",
    "        result = Matrix(self.m, self.n)\n",
    "        result.matrix = [[self.matrix[i][j] - other.matrix[i][j] for j in range(self.n)] for i in range(self.m)]\n",
    "        return result\n",
    "\n",
    "    # Matrix multiplication\n",
    "    def __mul__(self, other):\n",
    "        if self.n != other.m:\n",
    "            return \"Number of columns in the first matrix must match the number of rows in the second matrix\"\n",
    "        result = Matrix(self.m, other.n)\n",
    "        for i in range(self.m):\n",
    "            for j in range(other.n):\n",
    "                result.matrix[i][j] = sum(self.matrix[i][k] * other.matrix[k][j] for k in range(self.n))\n",
    "        return result\n",
    "\n",
    "    # Element-wise multiplication\n",
    "    def elementwise_multiply(self, other):\n",
    "        if self.m != other.m or self.n != other.n:\n",
    "            return \"Matrix dimensions must match for element-wise multiplication\"\n",
    "        result = Matrix(self.m, self.n)\n",
    "        result.matrix = [[self.matrix[i][j] * other.matrix[i][j] for j in range(self.n)] for i in range(self.m)]\n",
    "        return result\n",
    "    \n",
    "    # Scalar multiplication\n",
    "    def scalar_multiply(self, scalar):\n",
    "        result = Matrix(self.m, self.n)\n",
    "        result.matrix = list(map(lambda row: list(map(lambda x: x * scalar, row)), self.matrix))\n",
    "        return result\n",
    "    \n",
    "    #displaying the matrix\n",
    "    def display(self):\n",
    "        print([[self.matrix[i][j] for j in range(self.n)] for i in range(self.m)])\n",
    "\n",
    "m1 = Matrix(3, 3)\n",
    "m2 = Matrix(3, 3)\n",
    "print(\"Matrix 1:\")\n",
    "m1.display()\n",
    "print(\"Matrix 2:\")\n",
    "m2.display()\n",
    "\n",
    "\n",
    "print(\"Matrix Addition:\")\n",
    "(m1 + m2).display()\n",
    "print(\"Matrix Subtraction:\")\n",
    "(m1 - m2).display()\n",
    "print(\"Matrix Multiplication:\")\n",
    "(m1 * m2).display()\n",
    "print(\"Element-wise Multiplication:\")\n",
    "m1.elementwise_multiply(m2).display()\n",
    "print(\"Scalar Multiplication (by 3) to Matrix 1:\")\n",
    "m1.scalar_multiply(3).display()\n"
   ]
  },
  {
   "cell_type": "markdown",
   "id": "e5113872",
   "metadata": {},
   "source": [
    "\n",
    "# 7. Create a Python class named Time that represents a moment of time. The class should have attributes hour, minute, and second. Include the following features:\n",
    "    A constructor that initializes hour, minute, and second, with validation to ensure each attribute is within its correct range (hours: 0-23, minutes: 0-59, seconds: 0-59).\n",
    "    A __str__() method that returns the time in a format hh:mm:ss.\n",
    "    Methods set_time(hour, minute, second) and get_time() to update and access the time, respectively.\n",
    "    An add_seconds(seconds) method that adds a given number of seconds to the current time object, adjusting the hour, minute, and second attributes accordingly.\n"
   ]
  },
  {
   "cell_type": "code",
   "execution_count": 36,
   "id": "03f279b2",
   "metadata": {},
   "outputs": [
    {
     "name": "stdout",
     "output_type": "stream",
     "text": [
      "Initial time: 10:30:45\n",
      "Time after adding 12003 seconds: 13:50:48\n",
      "Updated time: 23:59:58\n",
      "The accessed time is:  23:59:58\n"
     ]
    }
   ],
   "source": [
    "class Time:\n",
    "    def __init__(self, hour=0, minute=0, second=0):\n",
    "        if 0 <= hour < 24 and 0 <= minute < 60 and 0 <= second < 60:\n",
    "            self.hour = hour\n",
    "            self.minute = minute\n",
    "            self.second = second\n",
    "        else:\n",
    "            return \"Invalid time values. Hours: 0-23, Minutes: 0-59, Seconds: 0-59\"\n",
    "\n",
    "    def set_time(self, hour, minute, second):\n",
    "        if 0 <= hour < 24 and 0 <= minute < 60 and 0 <= second < 60:\n",
    "            self.hour = hour\n",
    "            self.minute = minute\n",
    "            self.second = second\n",
    "        else:\n",
    "            return \"Invalid time values. Hours: 0-23, Minutes: 0-59, Seconds: 0-59\"\n",
    "\n",
    "    def get_time(self):\n",
    "        return f\"{self.hour}:{self.minute}:{self.second}\"\n",
    "\n",
    "    def add_seconds(self, seconds):\n",
    "        total_seconds = self.hour * 3600 + self.minute * 60 + self.second + seconds\n",
    "        self.hour = total_seconds // 3600\n",
    "        self.minute = (total_seconds % 3600) // 60\n",
    "        self.second = total_seconds % 60\n",
    "\n",
    "    def __str__(self):\n",
    "        return f\"{self.hour}:{self.minute}:{self.second}\"\n",
    "\n",
    "\n",
    "tm1 = Time(10, 30, 45)\n",
    "print(\"Initial time:\", tm1)\n",
    "\n",
    "tm1.add_seconds(12003)\n",
    "print(\"Time after adding 12003 seconds:\", tm1)\n",
    "\n",
    "tm1.set_time(23, 59, 58)\n",
    "print(\"Updated time:\", tm1)\n",
    "\n",
    "print(\"The accessed time is: \",tm1.get_time())"
   ]
  },
  {
   "cell_type": "markdown",
   "id": "3f32737d",
   "metadata": {},
   "source": [
    "# 8.  Create a class named Geometry that provides static methods for various geometric calculations, such as area and perimeter, for different shapes (circle, rectangle, square). Include:\n",
    "Static methods like circle_area(radius), rectangle_area(length, width), and square_area(side).\n",
    "Static methods for perimeter calculations for the above shapes.\n",
    "Ensure that methods check for valid inputs (e.g., positive numbers)."
   ]
  },
  {
   "cell_type": "code",
   "execution_count": 25,
   "id": "e057893c",
   "metadata": {},
   "outputs": [
    {
     "name": "stdout",
     "output_type": "stream",
     "text": [
      "Circle area with radius 5: Radius must be a positive number\n",
      "Rectangle area with length 6 and width 4: 24\n",
      "Square area with side 3: 9\n",
      "Circle perimeter with radius 5: 31.4159\n",
      "Rectangle perimeter with length 6 and width 4: 20\n",
      "Square perimeter with side 3: 12\n"
     ]
    }
   ],
   "source": [
    "class Geometry:\n",
    "    def circle_area(radius):\n",
    "        if radius <= 0:\n",
    "            return \"Radius must be a positive number\"\n",
    "        return 3.14159 * radius ** 2\n",
    "\n",
    "    def rectangle_area(length, width):\n",
    "        if length <= 0 or width <= 0:\n",
    "            return \"Length and width must be positive numbers\"\n",
    "        return length * width\n",
    "\n",
    "    def square_area(side):\n",
    "        if side <= 0:\n",
    "            return \"Side length must be a positive number\"\n",
    "        return side ** 2\n",
    "\n",
    "    def circle_perimeter(radius):\n",
    "        if radius <= 0:\n",
    "            return \"Radius must be a positive number\"\n",
    "        return 2 * 3.14159 * radius\n",
    "\n",
    "    def rectangle_perimeter(length, width):\n",
    "        if length <= 0 or width <= 0:\n",
    "            return \"Length and width must be positive numbers\"\n",
    "        return 2 * (length + width)\n",
    "\n",
    "    def square_perimeter(side):\n",
    "        if side <= 0:\n",
    "            return \"Side length must be a positive number\"\n",
    "        return 4 * side\n",
    "\n",
    "\n",
    "\n",
    "print(f\"Circle area with radius 5: {Geometry.circle_area(-5)}\")\n",
    "print(f\"Rectangle area with length 6 and width 4: {Geometry.rectangle_area(6, 4)}\")\n",
    "print(f\"Square area with side 3: {Geometry.square_area(3)}\")\n",
    "print(f\"Circle perimeter with radius 5: {Geometry.circle_perimeter(5)}\")\n",
    "print(f\"Rectangle perimeter with length 6 and width 4: {Geometry.rectangle_perimeter(6, 4)}\")\n",
    "print(f\"Square perimeter with side 3: {Geometry.square_perimeter(3)}\")"
   ]
  },
  {
   "cell_type": "code",
   "execution_count": null,
   "id": "013d2040",
   "metadata": {},
   "outputs": [],
   "source": []
  }
 ],
 "metadata": {
  "kernelspec": {
   "display_name": "Python 3 (ipykernel)",
   "language": "python",
   "name": "python3"
  },
  "language_info": {
   "codemirror_mode": {
    "name": "ipython",
    "version": 3
   },
   "file_extension": ".py",
   "mimetype": "text/x-python",
   "name": "python",
   "nbconvert_exporter": "python",
   "pygments_lexer": "ipython3",
   "version": "3.10.7"
  }
 },
 "nbformat": 4,
 "nbformat_minor": 5
}
