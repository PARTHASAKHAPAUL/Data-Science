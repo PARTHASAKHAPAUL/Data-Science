{
 "cells": [
  {
   "cell_type": "markdown",
   "id": "379965a4",
   "metadata": {},
   "source": [
    "# 6. Store the employee IDs, names, salaries, and years of experience using nested dictionaries (the key of the highest level dictionary can be the employee ID). \n",
    "\n",
    "a) Sort this dictionary using the salary value. \n",
    "\n",
    "b) Add a new employee to the dictionary in the correct position (sorted as mentioned above)."
   ]
  },
  {
   "cell_type": "code",
   "execution_count": 1,
   "id": "8f39ca87",
   "metadata": {},
   "outputs": [
    {
     "name": "stdout",
     "output_type": "stream",
     "text": [
      "{'name': 'Binay', 'salary': 75000, 'experience': 8}\n"
     ]
    }
   ],
   "source": [
    "emp_dc = {\n",
    "    1: {\"name\": \"Alok\", \"salary\": 60000, \"experience\": 5},\n",
    "    20: {\"name\": \"Binay\", \"salary\": 75000, \"experience\": 8},\n",
    "    3: {\"name\": \"Chinmoy\", \"salary\": 55000, \"experience\": 3}\n",
    "}\n",
    "print(emp_dc[20])"
   ]
  },
  {
   "cell_type": "code",
   "execution_count": 3,
   "id": "e823cee7",
   "metadata": {},
   "outputs": [
    {
     "name": "stdout",
     "output_type": "stream",
     "text": [
      "{3: {'name': 'Chinmoy', 'salary': 55000, 'experience': 3}, 1: {'name': 'Alok', 'salary': 60000, 'experience': 5}, 20: {'name': 'Binay', 'salary': 75000, 'experience': 8}}\n"
     ]
    }
   ],
   "source": [
    "#a\n",
    "dc_sort_salary = dict(sorted(emp_dc.items(), key=lambda x:x[1]['salary']))\n",
    "print(dc_sort_salary)"
   ]
  },
  {
   "cell_type": "code",
   "execution_count": 9,
   "id": "3b974e07",
   "metadata": {},
   "outputs": [
    {
     "name": "stdout",
     "output_type": "stream",
     "text": [
      "{3: {'name': 'Chinmoy', 'salary': 55000, 'experience': 3}, 1: {'name': 'Alok', 'salary': 60000, 'experience': 5}, 4: {'name': 'Dibya', 'salary': 68000, 'experience': 6}, 2: {'name': 'Binay', 'salary': 75000, 'experience': 8}}\n"
     ]
    }
   ],
   "source": [
    "#b\n",
    "new_emp = {\"name\": \"Dibya\", \"salary\": 68000, \"experience\": 6}\n",
    "dc_sort_salary[4] = new_emp\n",
    "dc_sort_salary = dict(sorted(dc_sort_salary.items(), key=lambda x:x[1]['salary']))\n",
    "print(dc_sort_salary)"
   ]
  },
  {
   "cell_type": "markdown",
   "id": "f8e64719",
   "metadata": {},
   "source": [
    "# 7. You are given two Python dictionaries, A and B, with keys as alphabets and values as random integers. Write a Python function to create a third dictionary C, that combines A and B. For common keys, the value in C should be the sum of values from A and B. \n",
    "\n",
    "For example, if dictionary A is {\"a\": 3, \"b\": 5, \"c\": 7} and dictionary B is {\"b\": 2, \"c\": 4, \"d\": 6}, the function should return a dictionary C that looks like {\"a\": 3, \"b\": 7, \"c\": 11, \"d\": 6}.\n"
   ]
  },
  {
   "cell_type": "code",
   "execution_count": 5,
   "id": "fea9b8d1",
   "metadata": {},
   "outputs": [
    {
     "name": "stdout",
     "output_type": "stream",
     "text": [
      "{'a': 3, 'b': 7, 'c': 11, 'd': 6}\n"
     ]
    }
   ],
   "source": [
    "A = {\"a\": 3, \"b\": 5, \"c\": 7}\n",
    "B = {\"b\": 2, \"c\": 4, \"d\": 6}\n",
    "C = A\n",
    "for i in B:\n",
    "    if i in C:\n",
    "        C.update({i:B[i]+C[i]})\n",
    "    if i not in C:\n",
    "        C.update({i:B[i]})\n",
    "print(C)"
   ]
  },
  {
   "cell_type": "markdown",
   "id": "7ad47800",
   "metadata": {},
   "source": [
    "# 8. Assume you have a list of lists, where each inner list contains two elements: a key and a value. Write a Python function that takes the list of lists as input and returns a list of dictionaries, where each dictionary contains a key-value pair from the original input list."
   ]
  },
  {
   "cell_type": "code",
   "execution_count": 11,
   "id": "7c1bff47",
   "metadata": {},
   "outputs": [
    {
     "name": "stdout",
     "output_type": "stream",
     "text": [
      "{'a': 1, 'b': 2, 'c': 4}\n"
     ]
    }
   ],
   "source": [
    "lis = [['a',1],[\"b\",2],['c',4]]\n",
    "def dic_from_lis(l):\n",
    "    dic = {}\n",
    "    for i in l:\n",
    "        dic.update({i[0]:i[1]})\n",
    "    return dic\n",
    "print(dic_from_lis(lis))"
   ]
  },
  {
   "cell_type": "markdown",
   "id": "c0498428",
   "metadata": {},
   "source": [
    "# 9. Illustrate the usage of positional and keyword arguments using suitable examples."
   ]
  },
  {
   "cell_type": "code",
   "execution_count": 12,
   "id": "8e5583aa",
   "metadata": {},
   "outputs": [
    {
     "name": "stdout",
     "output_type": "stream",
     "text": [
      "Harsha is 26 years old and pursuing a degree in unknown department.\n",
      "Partha is 25 years old and pursuing a degree in Mathematics department.\n",
      "Hence the usage of positional and keyword arguments.\n"
     ]
    }
   ],
   "source": [
    "def studentdetail(name, age, dept=\"unknown\"):\n",
    "    print(f\"{name} is {age} years old and pursuing a degree in {dept} department.\")\n",
    "\n",
    "# calling the function with both of positional and keyword args\n",
    "studentdetail(\"Harsha\", 26)\n",
    "studentdetail(\"Partha\", dept = 'Mathematics', age = 25)\n",
    "print('Hence the usage of positional and keyword arguments.')"
   ]
  },
  {
   "cell_type": "markdown",
   "id": "88eb0f0b",
   "metadata": {},
   "source": [
    "# 10. Write a function to find the maximum of n numbers using variable length positional arguments.\n"
   ]
  },
  {
   "cell_type": "code",
   "execution_count": 25,
   "id": "549fe935",
   "metadata": {},
   "outputs": [
    {
     "name": "stdout",
     "output_type": "stream",
     "text": [
      "The maximum number is: 10\n"
     ]
    }
   ],
   "source": [
    "def find_max(*numbers):\n",
    "    max_number = max(numbers)\n",
    "    return max_number\n",
    "\n",
    "result = find_max(5, 8, 2, 10, 3)\n",
    "print(f\"The maximum number is: {result}\")  "
   ]
  },
  {
   "cell_type": "markdown",
   "id": "c247d051",
   "metadata": {},
   "source": [
    "# 11. Write a function to concatenate n strings using variable length keyword arguments."
   ]
  },
  {
   "cell_type": "code",
   "execution_count": 27,
   "id": "843a3688",
   "metadata": {},
   "outputs": [
    {
     "name": "stdout",
     "output_type": "stream",
     "text": [
      "Concatenated string: My name is Partha\n"
     ]
    }
   ],
   "source": [
    "def concat_str(**kwargs):\n",
    "    return \" \".join(kwargs.values())\n",
    "\n",
    "result = concat_str(first=\"My\", second=\"name\", third=\"is Partha\")\n",
    "print(f\"Concatenated string: {result}\")"
   ]
  }
 ],
 "metadata": {
  "kernelspec": {
   "display_name": "Python 3 (ipykernel)",
   "language": "python",
   "name": "python3"
  },
  "language_info": {
   "codemirror_mode": {
    "name": "ipython",
    "version": 3
   },
   "file_extension": ".py",
   "mimetype": "text/x-python",
   "name": "python",
   "nbconvert_exporter": "python",
   "pygments_lexer": "ipython3",
   "version": "3.10.7"
  }
 },
 "nbformat": 4,
 "nbformat_minor": 5
}
