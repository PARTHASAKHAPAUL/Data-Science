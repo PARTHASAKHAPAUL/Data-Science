{
 "cells": [
  {
   "cell_type": "markdown",
   "id": "320f2996",
   "metadata": {},
   "source": [
    "# 1. Explore the use and syntax of common built-in functions: \n",
    "\n",
    "range(), \n",
    "\n",
    "iter(), \n",
    "\n",
    "eval(), \n",
    "\n",
    "enumerate(), \n",
    "\n",
    "zip(), \n",
    "\n",
    "lambda, \n",
    "\n",
    "input(), \n",
    "\n",
    "map(), \n",
    "\n",
    "filter(), \n",
    "\n",
    "next()\n",
    "\n",
    "reduce()\n",
    "\n",
    "Include a short description and a practical code example for each, ensuring clarity through comments."
   ]
  },
  {
   "cell_type": "markdown",
   "id": "b172244e",
   "metadata": {},
   "source": [
    "    range(): it ranges a sequence from a initial point to previous value of the end point that it takes as two arguments."
   ]
  },
  {
   "cell_type": "code",
   "execution_count": 108,
   "id": "163e2a27",
   "metadata": {},
   "outputs": [
    {
     "name": "stdout",
     "output_type": "stream",
     "text": [
      "0\n",
      "1\n",
      "2\n",
      "3\n",
      "4\n",
      "5\n",
      "6\n",
      "7\n",
      "8\n",
      "9\n",
      "10\n"
     ]
    }
   ],
   "source": [
    "for i in range(0,11):\n",
    "    print(i)\n",
    "#it will print from 0 to 10"
   ]
  },
  {
   "cell_type": "markdown",
   "id": "83680757",
   "metadata": {},
   "source": [
    "    iter(): it represents the object of the class of the iterator"
   ]
  },
  {
   "cell_type": "code",
   "execution_count": 124,
   "id": "fa4a533a",
   "metadata": {},
   "outputs": [
    {
     "name": "stdout",
     "output_type": "stream",
     "text": [
      "<list_iterator object at 0x0000022E86267250>\n"
     ]
    }
   ],
   "source": [
    "my_list = [1, 2, 3]\n",
    "my_iter = iter(my_list)\n",
    "print(my_iter)"
   ]
  },
  {
   "cell_type": "markdown",
   "id": "cbf75db2",
   "metadata": {},
   "source": [
    "    eval(): it will evaluate the math calculations inside in a string like below"
   ]
  },
  {
   "cell_type": "code",
   "execution_count": 120,
   "id": "487db11f",
   "metadata": {},
   "outputs": [
    {
     "name": "stdout",
     "output_type": "stream",
     "text": [
      "5\n"
     ]
    }
   ],
   "source": [
    "result = eval('2 + 2 + 3*2 - 5')\n",
    "print(result)"
   ]
  },
  {
   "cell_type": "markdown",
   "id": "aee47644",
   "metadata": {},
   "source": [
    "    enumerate(): it gives the index and value at that index in a list or tuple."
   ]
  },
  {
   "cell_type": "code",
   "execution_count": 11,
   "id": "fa790c30",
   "metadata": {},
   "outputs": [
    {
     "name": "stdout",
     "output_type": "stream",
     "text": [
      "0 a\n",
      "1 b\n",
      "2 c\n"
     ]
    }
   ],
   "source": [
    "for i, v in enumerate(('a', 'b', 'c')):\n",
    "    print(i, v)  # prints index and value of each item"
   ]
  },
  {
   "cell_type": "markdown",
   "id": "35dacdfc",
   "metadata": {},
   "source": [
    "    zip(): it will grouped or paired the data orederly in between two lists"
   ]
  },
  {
   "cell_type": "code",
   "execution_count": 14,
   "id": "e6266173",
   "metadata": {},
   "outputs": [
    {
     "name": "stdout",
     "output_type": "stream",
     "text": [
      "Partha 23\n",
      "Abhi 34\n",
      "('Partha', 23)\n",
      "('Abhi', 34)\n"
     ]
    }
   ],
   "source": [
    "names = ['Partha', 'Abhi']\n",
    "ages = [23, 34]\n",
    "for n, a in zip(names, ages):\n",
    "    print(n, a)  # groups each name with age\n",
    "    \n",
    "for n in zip(names, ages):\n",
    "    print(n)"
   ]
  },
  {
   "cell_type": "markdown",
   "id": "c53d5587",
   "metadata": {},
   "source": [
    "    lambda: we can do any work by this function as below:\n",
    "    we are doing a square function by using lambda\n",
    "    we can make any other functions as well"
   ]
  },
  {
   "cell_type": "code",
   "execution_count": 3,
   "id": "dee1b3df",
   "metadata": {},
   "outputs": [
    {
     "name": "stdout",
     "output_type": "stream",
     "text": [
      "25\n",
      "15625\n"
     ]
    }
   ],
   "source": [
    "sq = lambda x: x ** 2\n",
    "print(sq(5))  # 25\n",
    "\n",
    "print((lambda x:x**3)(25))"
   ]
  },
  {
   "cell_type": "markdown",
   "id": "86e0b225",
   "metadata": {},
   "source": [
    "    input(): it takes input values from user and by default it takes string, but we can change it to any other datatype"
   ]
  },
  {
   "cell_type": "code",
   "execution_count": 125,
   "id": "2f4e8904",
   "metadata": {},
   "outputs": [
    {
     "name": "stdout",
     "output_type": "stream",
     "text": [
      "enter the string: partha\n",
      "partha\n"
     ]
    }
   ],
   "source": [
    "str1 = input(\"enter the string: \")\n",
    "print(str1)"
   ]
  },
  {
   "cell_type": "markdown",
   "id": "cbfeaa51",
   "metadata": {},
   "source": [
    "    map(): this function takes any given function to all the items in an input list"
   ]
  },
  {
   "cell_type": "code",
   "execution_count": 114,
   "id": "7d2df445",
   "metadata": {},
   "outputs": [
    {
     "name": "stdout",
     "output_type": "stream",
     "text": [
      "[1, 4, 9, 16]\n"
     ]
    }
   ],
   "source": [
    "items = [1, 2, 3, 4]\n",
    "squared = list(map(lambda x: x**2, items))\n",
    "print(squared)  # it will print all the squared elements of items"
   ]
  },
  {
   "cell_type": "markdown",
   "id": "e2b72438",
   "metadata": {},
   "source": [
    "    filter(): this function creates a list of elements for which a user given function returns true"
   ]
  },
  {
   "cell_type": "code",
   "execution_count": 116,
   "id": "81fc6b63",
   "metadata": {},
   "outputs": [
    {
     "name": "stdout",
     "output_type": "stream",
     "text": [
      "[2, 4, 6]\n"
     ]
    }
   ],
   "source": [
    "items = [1, 2, 3, 4, 5, 6]\n",
    "even_items = list(filter(lambda x: x % 2 == 0, items))\n",
    "print(even_items)  # it will check if the number is even then only it takes the values otherwise won't"
   ]
  },
  {
   "cell_type": "markdown",
   "id": "4b1eda13",
   "metadata": {},
   "source": [
    "    next(): This function printing the next item from the iterator"
   ]
  },
  {
   "cell_type": "code",
   "execution_count": 128,
   "id": "b933b62e",
   "metadata": {},
   "outputs": [
    {
     "name": "stdout",
     "output_type": "stream",
     "text": [
      "<list_iterator object at 0x0000022E862648E0>\n",
      "1\n",
      "<list_iterator object at 0x0000022E862648E0>\n",
      "2\n",
      "<list_iterator object at 0x0000022E862648E0>\n",
      "3\n",
      "<list_iterator object at 0x0000022E862648E0>\n"
     ]
    }
   ],
   "source": [
    "my_iter = iter([1, 2, 3])\n",
    "print(my_iter)\n",
    "print(next(my_iter))  # print 1\n",
    "print(my_iter)\n",
    "print(next(my_iter))  # print 2\n",
    "print(my_iter)\n",
    "print(next(my_iter))  # print 3\n",
    "print(my_iter)"
   ]
  },
  {
   "cell_type": "markdown",
   "id": "8b549293",
   "metadata": {},
   "source": [
    "    reduce(): reduce function is importing from functools library , it applies a given function cumulatively to the items of iterable, from left to right, so it reduces the iterable to a single value."
   ]
  },
  {
   "cell_type": "code",
   "execution_count": 115,
   "id": "3af0aa01",
   "metadata": {},
   "outputs": [
    {
     "name": "stdout",
     "output_type": "stream",
     "text": [
      "10\n"
     ]
    }
   ],
   "source": [
    "from functools import reduce\n",
    "items = [1, 2, 3, 4]\n",
    "sum_all = reduce(lambda x, y: x + y, items)\n",
    "print(sum_all)  # "
   ]
  },
  {
   "cell_type": "markdown",
   "id": "851885f7",
   "metadata": {},
   "source": [
    "# 2. Write a Python function that sorts a dictionary based on the length of values.\n",
    "\n",
    "Sample:\n",
    "\n",
    "Input: {'lemon':'yellow','apple':'red'} output: {'apple':'red','lemon':'yellow'}"
   ]
  },
  {
   "cell_type": "code",
   "execution_count": 18,
   "id": "52cb0a86",
   "metadata": {},
   "outputs": [
    {
     "name": "stdout",
     "output_type": "stream",
     "text": [
      "[('apple', 'red'), ('lemon', 'yellow')]\n",
      "{'apple': 'red', 'lemon': 'yellow'}\n"
     ]
    }
   ],
   "source": [
    "dct = {'lemon':'yellow','apple':'red'}\n",
    "dct1 = sorted(dct.items(), key=lambda x:x[1])\n",
    "print(dct1)\n",
    "print(dict(dct1))\n",
    "# dct2 = dct.sort(lambda x:x[1] , dct)"
   ]
  },
  {
   "cell_type": "code",
   "execution_count": 20,
   "id": "ae940051",
   "metadata": {},
   "outputs": [
    {
     "name": "stdout",
     "output_type": "stream",
     "text": [
      "('lemon', 'yellow')\n",
      "('apple', 'red')\n"
     ]
    }
   ],
   "source": [
    "dct = {'lemon':'yellow','apple':'red'}\n",
    "for i in dct.items():\n",
    "    print(i)"
   ]
  },
  {
   "cell_type": "markdown",
   "id": "a894f8fa",
   "metadata": {},
   "source": [
    "# 3. Develop a Python program that executes the following tasks with a user-provided string:\n",
    "\n",
    "a. Prompt the user to input a string.\n",
    "\n",
    "b. Create a dictionary from the string where each key is a unique alphabet character and the corresponding value is the frequency of that character's occurrence in the string.\n",
    "\n",
    "c. Generate a sorted list of tuples from the dictionary based on character frequency (values).\n",
    "\n",
    "d. Generate a sorted list of tuples from the dictionary based on the alphabet characters (keys).\n",
    "\n",
    "e. Identify the three most frequently occurring characters. In the event of a frequency tie, prioritize characters in lexicographical order.\n",
    "\n",
    "Your program should showcase proficiency in dictionary operations, sorting mechanisms, and handling of ties in frequency counts. Comment your code to outline the process and decisions made.\n",
    "\n",
    "sample:\n",
    "\n",
    "input = 'GOOGLE'\n",
    "\n",
    "Here, the most repeated characters are G:2, O:2. But, L,E are occurring only a single time which is tied for the third position here, so here we take E as it comes first in the lexicographical order.\n",
    "\n"
   ]
  },
  {
   "cell_type": "code",
   "execution_count": 25,
   "id": "c1ef4153",
   "metadata": {},
   "outputs": [
    {
     "name": "stdout",
     "output_type": "stream",
     "text": [
      "enter your string: parthasakhapaul\n",
      "2\n",
      "['p', 'a', 'r', 't', 'h', 'a', 's', 'a', 'k', 'h', 'a', 'p', 'a', 'u', 'l']\n",
      "the required dictionary is:  {'p': 2, 'a': 5, 'r': 1, 't': 1, 'h': 2, 's': 1, 'k': 1, 'u': 1, 'l': 1}\n"
     ]
    }
   ],
   "source": [
    "#a\n",
    "#b\n",
    "st1 = input('enter your string: ')\n",
    "print(st1.count('p'))\n",
    "st1 = list(st1)\n",
    "print(st1)\n",
    "dct2 = {}\n",
    "for i in st1:\n",
    "    if i not in dct2:\n",
    "        dct2.update({i:st1.count(i)})\n",
    "print(\"the required dictionary is: \",dct2)"
   ]
  },
  {
   "cell_type": "code",
   "execution_count": 30,
   "id": "5cbc2917",
   "metadata": {},
   "outputs": [
    {
     "name": "stdout",
     "output_type": "stream",
     "text": [
      "<class 'str'>\n",
      "The sorted dict is w.r.t frequencies: \n",
      "{'r': 1, 't': 1, 's': 1, 'k': 1, 'u': 1, 'l': 1, 'p': 2, 'h': 2, 'a': 5}\n"
     ]
    }
   ],
   "source": [
    "#c\n",
    "l = ['p','a']\n",
    "s = str(l)\n",
    "print(type(s))\n",
    "l2 = sorted(dct2.items(),key=lambda x:x[1])\n",
    "print(\"The sorted dict is w.r.t frequencies: \")\n",
    "print(dict(l2))"
   ]
  },
  {
   "cell_type": "code",
   "execution_count": 107,
   "id": "cd782fcd",
   "metadata": {},
   "outputs": [
    {
     "name": "stdout",
     "output_type": "stream",
     "text": [
      "The sorted dict is w.r.t alphabets: \n",
      "[('a', 5), ('h', 2), ('k', 1), ('l', 1), ('p', 2), ('r', 1), ('s', 1), ('t', 1), ('u', 1)]\n"
     ]
    }
   ],
   "source": [
    "#d\n",
    "l21 = sorted(dct2.items(),key=lambda x:x[0])\n",
    "print(\"The sorted dict is w.r.t alphabets: \")\n",
    "print(l21)"
   ]
  },
  {
   "cell_type": "code",
   "execution_count": 129,
   "id": "c5d9264b",
   "metadata": {},
   "outputs": [
    {
     "name": "stdout",
     "output_type": "stream",
     "text": [
      "[('a', 5), ('h', 2), ('p', 2)]\n"
     ]
    }
   ],
   "source": [
    "#e\n",
    "l22 = sorted(dct2.items(),key=lambda x:(-x[1],x[0]))\n",
    "print(l22[:3])"
   ]
  },
  {
   "cell_type": "markdown",
   "id": "daf3fbab",
   "metadata": {},
   "source": [
    "# 4. Write a function called lookup_student that takes a dictionary representing student records, where names are keys and roll numbers are values. The function should search for a specified student name and return the corresponding roll number if found; otherwise, it should return \"Not Found\" \n",
    "\n",
    "Example:\n",
    "\n",
    "records = { \"Alice\" : \"AB111\", \"Bob\" : \"EE200\", \"David\" : \"XY333\"}\n",
    "\n",
    "print(lookup_student(records, \"Bob\")) : Should print \"EE200\"\n",
    "\n",
    "print(lookup_student(records, \"John\")) : Should print \"Not Found\"\n",
    "\n"
   ]
  },
  {
   "cell_type": "code",
   "execution_count": 31,
   "id": "7a5b04de",
   "metadata": {},
   "outputs": [
    {
     "name": "stdout",
     "output_type": "stream",
     "text": [
      "EE200\n",
      "Not Found\n"
     ]
    }
   ],
   "source": [
    "def lookup_student(dc,nam):\n",
    "    if nam in dc:\n",
    "        return dc[nam]\n",
    "    else:\n",
    "        return ('Not Found')\n",
    "         \n",
    "records = { \"Alice\" : \"AB111\", \"Bob\" : \"EE200\", \"David\" : \"XY333\"}\n",
    "\n",
    "print(lookup_student(records, \"Bob\"))\n",
    "print(lookup_student(records, \"John\"))"
   ]
  },
  {
   "cell_type": "code",
   "execution_count": 41,
   "id": "60b84715",
   "metadata": {},
   "outputs": [
    {
     "name": "stdout",
     "output_type": "stream",
     "text": [
      "EE200\n",
      "Not Found\n"
     ]
    }
   ],
   "source": [
    "def lookup_student(dc,nam):\n",
    "    for k,v in dc.items():\n",
    "#         print(k,v)\n",
    "        if k==nam:\n",
    "            return dc[k]\n",
    "    return 'Not Found'\n",
    "         \n",
    "records = { \"Alice\" : \"AB111\", \"Bob\" : \"EE200\", \"David\" : \"XY333\"}\n",
    "# for k,v in records.items():\n",
    "#     print(k,v)\n",
    "\n",
    "print(lookup_student(records, \"Bob\"))\n",
    "print(lookup_student(records, \"John\"))"
   ]
  },
  {
   "cell_type": "markdown",
   "id": "88d9a877",
   "metadata": {},
   "source": [
    "# 5. Given a list of integers, write a Python program to:\n",
    "\n",
    "a) Find the frequency of each integer in the list and store the result in a dictionary.\n",
    "\n",
    "b) Print the maximum integer and its frequency.\n",
    "\n",
    "c) Remove duplicates from the list and print the new list without changing the order of elements. Do this operation without using the set data type.\n",
    "\n",
    "d) Remove duplicates from the list and print the new list. Do this operation using the set data type."
   ]
  },
  {
   "cell_type": "code",
   "execution_count": 91,
   "id": "4bb46d81",
   "metadata": {},
   "outputs": [
    {
     "name": "stdout",
     "output_type": "stream",
     "text": [
      "the required dictionary is:  {1: 5, 2: 5, 5: 4, 8: 3, 7: 4, 9: 3, 6: 6, 3: 3, 4: 3, 20: 2}\n"
     ]
    }
   ],
   "source": [
    "#a\n",
    "lst5 = [1,1,2,5,8,2,7,9,6,6,3,2,1,4,5,6,3,2,1,7,20,6,5,4,7,8,9,20,6,3,2,1,4,5,6,9,8,7]\n",
    "dct5 = {}\n",
    "for i in lst5:\n",
    "    if i not in dct5:\n",
    "        dct5.update({i:lst5.count(i)})\n",
    "print(\"the required dictionary is: \",dct5)"
   ]
  },
  {
   "cell_type": "code",
   "execution_count": 93,
   "id": "7a0a50cd",
   "metadata": {},
   "outputs": [
    {
     "name": "stdout",
     "output_type": "stream",
     "text": [
      "the maximum integer in the above dict is:  20\n",
      "the frequency of the max-int is:  2\n"
     ]
    }
   ],
   "source": [
    "#b\n",
    "max_int = max(dct5.keys())\n",
    "print(\"the maximum integer in the above dict is: \",max_int)\n",
    "for i in dct5:\n",
    "    if(i==max_int):\n",
    "        print('the frequency of the max-int is: ',dct5[i])"
   ]
  },
  {
   "cell_type": "code",
   "execution_count": 101,
   "id": "95ae2d76",
   "metadata": {},
   "outputs": [
    {
     "name": "stdout",
     "output_type": "stream",
     "text": [
      "Removing duplicates from the above list and printing the new list without changing the order of elements: \n",
      "[1, 2, 5, 8, 7, 9, 6, 3, 4, 20]\n"
     ]
    }
   ],
   "source": [
    "#c\n",
    "new_lst5 = []\n",
    "for i in lst5:\n",
    "    if i not in new_lst5:\n",
    "        new_lst5.append(i)\n",
    "print('Removing duplicates from the above list and printing the new list without changing the order of elements: ')\n",
    "print(new_lst5)"
   ]
  },
  {
   "cell_type": "code",
   "execution_count": 102,
   "id": "ff3e3285",
   "metadata": {},
   "outputs": [
    {
     "name": "stdout",
     "output_type": "stream",
     "text": [
      "Removing duplicates from the above list and printing the new list by using the set datatype: \n",
      "[1, 2, 3, 4, 5, 6, 7, 8, 9, 20]\n"
     ]
    }
   ],
   "source": [
    "#d\n",
    "print('Removing duplicates from the above list and printing the new list by using the set datatype: ')\n",
    "print(list(set(lst5)))"
   ]
  },
  {
   "cell_type": "code",
   "execution_count": null,
   "id": "d43ed4d1",
   "metadata": {},
   "outputs": [],
   "source": []
  }
 ],
 "metadata": {
  "kernelspec": {
   "display_name": "Python 3 (ipykernel)",
   "language": "python",
   "name": "python3"
  },
  "language_info": {
   "codemirror_mode": {
    "name": "ipython",
    "version": 3
   },
   "file_extension": ".py",
   "mimetype": "text/x-python",
   "name": "python",
   "nbconvert_exporter": "python",
   "pygments_lexer": "ipython3",
   "version": "3.10.7"
  }
 },
 "nbformat": 4,
 "nbformat_minor": 5
}
