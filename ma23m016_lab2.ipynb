{
 "cells": [
  {
   "cell_type": "markdown",
   "id": "0713fbfd",
   "metadata": {},
   "source": [
    "# 1. Write a program to print numbers divisible by both 7 and 8. Numbers between 1 and 1000.\n",
    "\n",
    "[Numbers like 56, which are both divisible by 7 and 8]\n",
    "\n",
    "a. Using continue statement\n",
    "\n",
    "b. Using the pass statement\n",
    "\n"
   ]
  },
  {
   "cell_type": "markdown",
   "id": "e13446f1",
   "metadata": {},
   "source": [
    "a."
   ]
  },
  {
   "cell_type": "code",
   "execution_count": 7,
   "id": "f6eb694a",
   "metadata": {},
   "outputs": [
    {
     "name": "stdout",
     "output_type": "stream",
     "text": [
      "number divisible by both 7 and 8 between 1 and 1000 are: \n",
      "56\n",
      "112\n",
      "168\n",
      "224\n",
      "280\n",
      "336\n",
      "392\n",
      "448\n",
      "504\n",
      "560\n",
      "616\n",
      "672\n",
      "728\n",
      "784\n",
      "840\n",
      "896\n",
      "952\n"
     ]
    }
   ],
   "source": [
    "#(a)\n",
    "\n",
    "print(\"number divisible by both 7 and 8 between 1 and 1000 are: \")\n",
    "for num in range(1, 1001):\n",
    "    if(num%7 != 0 or num%8 != 0):\n",
    "        continue\n",
    "    print(num)"
   ]
  },
  {
   "cell_type": "markdown",
   "id": "0fb5a167",
   "metadata": {},
   "source": [
    "b."
   ]
  },
  {
   "cell_type": "code",
   "execution_count": 4,
   "id": "bc9aa6e1",
   "metadata": {},
   "outputs": [
    {
     "name": "stdout",
     "output_type": "stream",
     "text": [
      "number divisible by both 7 and 8 between 1 and 1000 are: \n",
      "56\n",
      "112\n",
      "168\n",
      "224\n",
      "280\n",
      "336\n",
      "392\n",
      "448\n",
      "504\n",
      "560\n",
      "616\n",
      "672\n",
      "728\n",
      "784\n",
      "840\n",
      "896\n",
      "952\n"
     ]
    }
   ],
   "source": [
    "#(b)\n",
    "\n",
    "print(\"number divisible by both 7 and 8 between 1 and 1000 are: \")\n",
    "for num in range(1, 1001):\n",
    "    if(num%7 == 0 and num%8 == 0):\n",
    "        print(num)\n",
    "    else:\n",
    "        pass"
   ]
  },
  {
   "cell_type": "markdown",
   "id": "34dcf48c",
   "metadata": {},
   "source": [
    "# 2. Number 34567222541147 has been given. Print the addition of all even digits and the addition of all odd digits.\n",
    "\n",
    "[Sample input = 156893, Sample Output: sum_even = 14 , sum_odd = 18]"
   ]
  },
  {
   "cell_type": "code",
   "execution_count": 3,
   "id": "ed5a3fd3",
   "metadata": {},
   "outputs": [
    {
     "name": "stdout",
     "output_type": "stream",
     "text": [
      "Number: 34567222541147\n",
      "Sum of even digits: 24\n",
      "Sum of odd digits: 29\n"
     ]
    }
   ],
   "source": [
    "num = 34567222541147\n",
    "num_str = str(num)\n",
    "\n",
    "sum_even = 0\n",
    "sum_odd = 0\n",
    "\n",
    "for digit in num_str:\n",
    "    digit = int(digit)\n",
    "    if digit%2 == 0:\n",
    "        sum_even += digit\n",
    "    else:\n",
    "        sum_odd += digit\n",
    "\n",
    "print(f\"Number: {num}\")\n",
    "print(f\"Sum of even digits: {sum_even}\")\n",
    "print(f\"Sum of odd digits: {sum_odd}\")"
   ]
  },
  {
   "cell_type": "markdown",
   "id": "9210f88f",
   "metadata": {},
   "source": [
    "# 3. Describe conditional expression. Write a program to print the maximum and minimum numbers from a list using conditional expression. Use the max () and min () functions to verify your output."
   ]
  },
  {
   "cell_type": "code",
   "execution_count": 4,
   "id": "c441a09b",
   "metadata": {},
   "outputs": [
    {
     "name": "stdout",
     "output_type": "stream",
     "text": [
      "Original List: [4, 8, -1, 10, 31, 7]\n",
      "Maximum by conditional expression: 31\n",
      "Minimum by conditional expression: -1\n",
      "Maximum(verified): 31\n",
      "Minimum(verified): -1\n"
     ]
    }
   ],
   "source": [
    "numbers = [4, 8, -1, 10, 31, 7]\n",
    "\n",
    "maximum = numbers[0] \n",
    "minimum = numbers[0]\n",
    "\n",
    "for num in numbers[1:]:\n",
    "    if num > maximum:\n",
    "        maximum = num\n",
    "        \n",
    "    if num < minimum:\n",
    "        minimum = num\n",
    "\n",
    "max_ver = max(numbers)\n",
    "min_ver = min(numbers)\n",
    "\n",
    "print(\"Original List:\", numbers)\n",
    "print(\"Maximum by conditional expression:\", maximum)\n",
    "print(\"Minimum by conditional expression:\", minimum)\n",
    "\n",
    "print(\"Maximum(verified):\", max_ver)\n",
    "print(\"Minimum(verified):\", min_ver)\n"
   ]
  },
  {
   "cell_type": "markdown",
   "id": "02d2b078",
   "metadata": {},
   "source": [
    "# 4. Pascal’s  Triangle : Print the following pattern for the given N number of rows."
   ]
  },
  {
   "cell_type": "code",
   "execution_count": 1,
   "id": "4c5d1247",
   "metadata": {},
   "outputs": [
    {
     "name": "stdout",
     "output_type": "stream",
     "text": [
      "enter any integer for pascal triangle: 8\n",
      "       1 \n",
      "      1 1 \n",
      "     1 2 1 \n",
      "    1 3 3 1 \n",
      "   1 4 6 4 1 \n",
      "  1 5 10 10 5 1 \n",
      " 1 6 15 20 15 6 1 \n",
      "1 7 21 35 35 21 7 1 \n"
     ]
    }
   ],
   "source": [
    "import math\n",
    "n = int(input(\"enter any integer for pascal triangle: \"))\n",
    "for i in range(0,n):\n",
    "    for k in range(0,n-i-1):\n",
    "        print(end=' ')\n",
    "    for j in range(0,i+1):\n",
    "        a=int((math.factorial(i))/((math.factorial(j)) * (math.factorial(i-j))))\n",
    "        print(a,end=' ')\n",
    "    print()"
   ]
  },
  {
   "cell_type": "markdown",
   "id": "3c6ae415",
   "metadata": {},
   "source": [
    "# 5. A palindrome sentence is a phrase or sentence that reads the same forward as it does backward, ignoring spaces, punctuation, and capitalization.\n",
    "\n",
    "\n",
    "A) Take a number as input, determine if it is a palindrome, considering only integers. Eg: 2442\n",
    "\n",
    "\n",
    "B) Now, take a string as an input and check whether it is Palindrome or not.  eg: \"Was it a car or a cat I saw?\"\n",
    "\n",
    "The expected output for this example will print, 'True'\n",
    "\n"
   ]
  },
  {
   "cell_type": "markdown",
   "id": "f36255e2",
   "metadata": {},
   "source": [
    "(A)"
   ]
  },
  {
   "cell_type": "code",
   "execution_count": 20,
   "id": "c0f78db3",
   "metadata": {},
   "outputs": [
    {
     "name": "stdout",
     "output_type": "stream",
     "text": [
      "enter any number: 2569652\n",
      "True\n"
     ]
    }
   ],
   "source": [
    "num = int(input(\"enter any number: \"))\n",
    "number = num\n",
    "\n",
    "def count_digit(n):\n",
    "    sum = 0\n",
    "    while(n != 0):\n",
    "        sum = sum + 1\n",
    "        n = n//10\n",
    "    return sum\n",
    "        \n",
    "digit = count_digit(num)\n",
    "rev_num = 0\n",
    "\n",
    "while(num != 0):\n",
    "    a = num%10\n",
    "    rev_num = rev_num + a * pow(10,digit-1)\n",
    "    digit = digit-1\n",
    "    num = num//10\n",
    "\n",
    "print(number==rev_num)"
   ]
  },
  {
   "cell_type": "markdown",
   "id": "b0eb7c31",
   "metadata": {},
   "source": [
    "(B)"
   ]
  },
  {
   "cell_type": "code",
   "execution_count": 19,
   "id": "31840d54",
   "metadata": {},
   "outputs": [
    {
     "name": "stdout",
     "output_type": "stream",
     "text": [
      "True\n"
     ]
    }
   ],
   "source": [
    "def is_palindrome(input_str):\n",
    "    #removing non-alphanumeric characters and convert to lowercase\n",
    "    cleaned_str = ''.join(char.lower() for char in input_str if char.isalnum())\n",
    "    return cleaned_str == cleaned_str[::-1]\n",
    "\n",
    "input_string = \"Was it a car or a cat I saw?\"\n",
    "\n",
    "result = is_palindrome(input_string)\n",
    "\n",
    "print(result)\n"
   ]
  },
  {
   "cell_type": "markdown",
   "id": "4ef4ac45",
   "metadata": {},
   "source": [
    "# 6. Describe chr () and ord () functions. Write a small program to show its functionality.Using these functions,write a program to print:\n",
    "\n",
    "Pattern for N=4\n",
    "\n",
    "  A\n",
    "\n",
    "  B B\n",
    "\n",
    "  C C C\n",
    "\n",
    "  D D D D\n",
    "\n"
   ]
  },
  {
   "cell_type": "code",
   "execution_count": 33,
   "id": "026e6832",
   "metadata": {},
   "outputs": [
    {
     "name": "stdout",
     "output_type": "stream",
     "text": [
      "A \n",
      "B B \n",
      "C C C \n",
      "D D D D \n"
     ]
    }
   ],
   "source": [
    "def pattern(n):\n",
    "    for i in range(n):\n",
    "        for j in range(i + 1):\n",
    "            print(chr(ord('A') + i), end=\" \")\n",
    "        print()\n",
    "\n",
    "N = 4\n",
    "\n",
    "pattern(N)\n"
   ]
  },
  {
   "cell_type": "markdown",
   "id": "222f60e0",
   "metadata": {},
   "source": [
    "# 7.You have a single list of names (each name should have first name and last name). Write a programme\n",
    "\n",
    "(a) to print the first names.\n",
    "\n",
    "(b) to print the last names.\n",
    "\n",
    "(c) to print each name as 'last_name first_name.\n",
    "\n",
    "(d) to print the names in the sorted order with respect to last name\n",
    "\n",
    "Example :Input list: ['Mark Antony', 'Mohan Raj'],\n",
    "\n",
    "Output :\n",
    "\n",
    " a) ['Mark', 'Mohan']  \n",
    "\n",
    "b) ['Antony', 'Raj'] \n",
    "\n",
    "c) ['Antony Mark', 'Raj Mohan']\n",
    "\n",
    "d) ['Mark Antony', 'Mohan Raj']"
   ]
  },
  {
   "cell_type": "code",
   "execution_count": 14,
   "id": "dbdad2c8",
   "metadata": {},
   "outputs": [
    {
     "name": "stdout",
     "output_type": "stream",
     "text": [
      "a) ['Mark', 'Mohan']\n",
      "b) ['Antony', 'Raj']\n",
      "c) ['Antony Mark', 'Raj Mohan']\n"
     ]
    }
   ],
   "source": [
    "def first_names(names):\n",
    "    return [name.split()[0] for name in names]\n",
    "\n",
    "def last_names(names):\n",
    "    return [name.split()[1] for name in names]\n",
    "\n",
    "def format_names(names):\n",
    "    return [f'{name.split()[1]} {name.split()[0]}' for name in names]\n",
    "\n",
    "names_list = ['Mark Antony', 'Mohan Raj']\n",
    "\n",
    "first_names = first_names(names_list)\n",
    "print(\"a)\", first_names)\n",
    "\n",
    "\n",
    "last_names = last_names(names_list)\n",
    "print(\"b)\", last_names)\n",
    "\n",
    "\n",
    "formatted_names = format_names(names_list)\n",
    "print(\"c)\", formatted_names)\n"
   ]
  },
  {
   "cell_type": "markdown",
   "id": "14ff1b2a",
   "metadata": {},
   "source": [
    "# 8. WAP to find the minimum of 3 numbers using\n",
    "\n",
    " a) with conditional expressions. (No loops should be used)\n",
    "\n",
    " b) with nested conditional expression. (No loops should be used)\n",
    "\n",
    " c) similar to problem (b), find the minimum of 4 numbers."
   ]
  },
  {
   "cell_type": "markdown",
   "id": "a59c253d",
   "metadata": {},
   "source": [
    "(a)"
   ]
  },
  {
   "cell_type": "code",
   "execution_count": 6,
   "id": "c940007f",
   "metadata": {},
   "outputs": [
    {
     "name": "stdout",
     "output_type": "stream",
     "text": [
      "min is:  2\n"
     ]
    }
   ],
   "source": [
    "a=5\n",
    "b=9\n",
    "c=2\n",
    "if(a<b<c):\n",
    "    print(\"min is: \",a)\n",
    "elif(b<a<c):\n",
    "    print(\"min is :\",b)\n",
    "else:\n",
    "    print(\"min is: \",c)"
   ]
  },
  {
   "cell_type": "markdown",
   "id": "744b2bdb",
   "metadata": {},
   "source": [
    "(b)"
   ]
  },
  {
   "cell_type": "code",
   "execution_count": 8,
   "id": "deb60f0f",
   "metadata": {},
   "outputs": [
    {
     "name": "stdout",
     "output_type": "stream",
     "text": [
      "min is:  2\n"
     ]
    }
   ],
   "source": [
    "a=5\n",
    "b=9\n",
    "c=2\n",
    "if(a<b):\n",
    "    if(a<c):\n",
    "        print(\"min is: \",a)\n",
    "    else:\n",
    "        print(\"min is: \",c)\n",
    "if(b<a):\n",
    "    if(b<c):\n",
    "        print(\"min is :\",b)\n",
    "    else:\n",
    "        print(\"min is: \",c)"
   ]
  },
  {
   "cell_type": "markdown",
   "id": "066eb9b9",
   "metadata": {},
   "source": [
    "(c)"
   ]
  },
  {
   "cell_type": "code",
   "execution_count": 13,
   "id": "2f4a00b5",
   "metadata": {},
   "outputs": [
    {
     "name": "stdout",
     "output_type": "stream",
     "text": [
      "min is: 20\n"
     ]
    }
   ],
   "source": [
    "a = 50\n",
    "b = 92\n",
    "c = 20\n",
    "d = 70\n",
    "\n",
    "if (a<b):\n",
    "    if (a<c):\n",
    "        if a<d:\n",
    "            print(\"min is:\", a)\n",
    "        else:\n",
    "            print(\"min is:\", d)\n",
    "    else:\n",
    "        if c<d:\n",
    "            print(\"min is:\", c)\n",
    "        else:\n",
    "            print(\"min is:\", d)\n",
    "else:\n",
    "    if b<c:\n",
    "        if b<d:\n",
    "            print(\"min is:\", b)\n",
    "        else:\n",
    "            print(\"min is:\", d)\n",
    "    else:\n",
    "        if c<d:\n",
    "            print(\"min is:\", c)\n",
    "        else:\n",
    "            print(\"min is:\", d)\n"
   ]
  },
  {
   "cell_type": "markdown",
   "id": "ac3713d6",
   "metadata": {},
   "source": [
    "# 9. Create a list of departments in IIT Madras (Minimum 5 ) and perform the following operations:\n",
    "\n",
    " append\n",
    "remove\n",
    "pop\n",
    "insert \n",
    "reverse\n",
    "sort\n",
    "count\n",
    "index\n",
    "extend\n",
    "slice\n",
    "clear"
   ]
  },
  {
   "cell_type": "code",
   "execution_count": 31,
   "id": "6c230567",
   "metadata": {},
   "outputs": [
    {
     "name": "stdout",
     "output_type": "stream",
     "text": [
      "['mathematics', 'cse', 'chemistry', 'physics', 'biotech', 'ED']\n"
     ]
    }
   ],
   "source": [
    "list = ['mathematics','cse','chemistry','physics','biotech']\n",
    "list.append('ED')\n",
    "print(list)"
   ]
  },
  {
   "cell_type": "code",
   "execution_count": 32,
   "id": "2adc7082",
   "metadata": {},
   "outputs": [
    {
     "name": "stdout",
     "output_type": "stream",
     "text": [
      "['mathematics', 'cse', 'chemistry', 'biotech']\n"
     ]
    }
   ],
   "source": [
    "list = ['mathematics','cse','chemistry','physics','biotech']\n",
    "list.remove('physics')\n",
    "print(list)"
   ]
  },
  {
   "cell_type": "code",
   "execution_count": 34,
   "id": "bbda60e5",
   "metadata": {},
   "outputs": [
    {
     "name": "stdout",
     "output_type": "stream",
     "text": [
      "['mathematics', 'cse', 'chemistry', 'physics']\n"
     ]
    }
   ],
   "source": [
    "list = ['mathematics','cse','chemistry','physics','biotech']\n",
    "list.pop()\n",
    "print(list)"
   ]
  },
  {
   "cell_type": "code",
   "execution_count": 41,
   "id": "525521a8",
   "metadata": {},
   "outputs": [
    {
     "name": "stdout",
     "output_type": "stream",
     "text": [
      "['mathematics', 'cse', 'ED', 'chemistry', 'physics', 'biotech']\n"
     ]
    }
   ],
   "source": [
    "list = ['mathematics','cse','chemistry','physics','biotech']\n",
    "list.insert(2,'ED')\n",
    "print(list)"
   ]
  },
  {
   "cell_type": "code",
   "execution_count": 42,
   "id": "a6bc4566",
   "metadata": {},
   "outputs": [
    {
     "name": "stdout",
     "output_type": "stream",
     "text": [
      "['biotech', 'physics', 'chemistry', 'cse', 'mathematics']\n"
     ]
    }
   ],
   "source": [
    "list = ['mathematics','cse','chemistry','physics','biotech']\n",
    "list.reverse()\n",
    "print(list)"
   ]
  },
  {
   "cell_type": "code",
   "execution_count": 43,
   "id": "db42bd48",
   "metadata": {},
   "outputs": [
    {
     "name": "stdout",
     "output_type": "stream",
     "text": [
      "['biotech', 'chemistry', 'cse', 'mathematics', 'physics']\n"
     ]
    }
   ],
   "source": [
    "list = ['mathematics','cse','chemistry','physics','biotech']\n",
    "list.sort()\n",
    "print(list)"
   ]
  },
  {
   "cell_type": "code",
   "execution_count": 46,
   "id": "909d827a",
   "metadata": {},
   "outputs": [
    {
     "name": "stdout",
     "output_type": "stream",
     "text": [
      "1\n",
      "['mathematics', 'cse', 'chemistry', 'physics', 'biotech']\n"
     ]
    }
   ],
   "source": [
    "list = ['mathematics','cse','chemistry','physics','biotech']\n",
    "print(list.count('cse'))\n",
    "print(list)"
   ]
  },
  {
   "cell_type": "code",
   "execution_count": 49,
   "id": "d9f6a2a1",
   "metadata": {},
   "outputs": [
    {
     "name": "stdout",
     "output_type": "stream",
     "text": [
      "2\n",
      "['mathematics', 'cse', 'chemistry', 'physics', 'biotech']\n"
     ]
    }
   ],
   "source": [
    "list = ['mathematics','cse','chemistry','physics','biotech']\n",
    "print(list.index('chemistry'))\n",
    "print(list)"
   ]
  },
  {
   "cell_type": "code",
   "execution_count": 55,
   "id": "f299511d",
   "metadata": {},
   "outputs": [
    {
     "name": "stdout",
     "output_type": "stream",
     "text": [
      "['mathematics', 'cse', 'chemistry', 'physics', 'biotech', 'ed', 'ee', 'aerospace engg.']\n"
     ]
    }
   ],
   "source": [
    "list = ['mathematics','cse','chemistry','physics','biotech']\n",
    "list1 = ['ed','ee','aerospace engg.']\n",
    "list.extend(list1)\n",
    "print(list)"
   ]
  },
  {
   "cell_type": "code",
   "execution_count": 8,
   "id": "656992d8",
   "metadata": {},
   "outputs": [
    {
     "name": "stdout",
     "output_type": "stream",
     "text": [
      "['mathematics', 'chemistry']\n"
     ]
    }
   ],
   "source": [
    "list = ['mathematics','cse','chemistry','physics','biotech']\n",
    "sublist = list[slice(0,4,2)]\n",
    "print(sublist)"
   ]
  },
  {
   "cell_type": "code",
   "execution_count": 9,
   "id": "c19047d5",
   "metadata": {},
   "outputs": [
    {
     "name": "stdout",
     "output_type": "stream",
     "text": [
      "['mathematics', 'chemistry']\n",
      "None\n",
      "None\n"
     ]
    }
   ],
   "source": [
    "list = ['mathematics','cse','chemistry','physics','biotech']\n",
    "sublist = list[slice(0,4,2)]\n",
    "print(sublist)\n",
    "print(sublist.clear())\n",
    "print(list.clear())"
   ]
  },
  {
   "cell_type": "code",
   "execution_count": 10,
   "id": "11fc1cde",
   "metadata": {},
   "outputs": [
    {
     "data": {
      "text/plain": [
       "[]"
      ]
     },
     "execution_count": 10,
     "metadata": {},
     "output_type": "execute_result"
    }
   ],
   "source": [
    "list"
   ]
  },
  {
   "cell_type": "code",
   "execution_count": 11,
   "id": "e550b0dc",
   "metadata": {},
   "outputs": [
    {
     "data": {
      "text/plain": [
       "[]"
      ]
     },
     "execution_count": 11,
     "metadata": {},
     "output_type": "execute_result"
    }
   ],
   "source": [
    "sublist"
   ]
  },
  {
   "cell_type": "code",
   "execution_count": null,
   "id": "7bf4dbb3",
   "metadata": {},
   "outputs": [],
   "source": []
  }
 ],
 "metadata": {
  "kernelspec": {
   "display_name": "Python 3 (ipykernel)",
   "language": "python",
   "name": "python3"
  },
  "language_info": {
   "codemirror_mode": {
    "name": "ipython",
    "version": 3
   },
   "file_extension": ".py",
   "mimetype": "text/x-python",
   "name": "python",
   "nbconvert_exporter": "python",
   "pygments_lexer": "ipython3",
   "version": "3.10.7"
  }
 },
 "nbformat": 4,
 "nbformat_minor": 5
}
